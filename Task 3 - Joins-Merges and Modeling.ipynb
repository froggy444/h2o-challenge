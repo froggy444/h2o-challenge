{
 "cells": [
  {
   "cell_type": "markdown",
   "metadata": {},
   "source": [
    "Dataset:\n",
    "  \n",
    "  https://s3.amazonaws.com/h2o-public-test-data/smalldata/chicago/Chicago_Ohare_International_Airport.csv\n",
    "  \n",
    "  https://s3.amazonaws.com/h2o-airlines-unpacked/allyears2k.csv\n",
    "\n",
    "Use the Chicago Weather and Airlines dataset for the following chanllenge.\n",
    "\n",
    "   1. Import chicago weather and airlines dataset.\n",
    "   1. Transform weather data's Date column to three new columns \"Year\", \"Month\", \"DayofMonth\".\n",
    "   1. Question: What is the range of the Year column in airlines dataset?\n",
    "   1. Question: What is the range of the Year column in weather dataset?\n",
    "   1. Filter airlines data to only flights outgoing or incoming to Chicago, ORD.\n",
    "   1. Run a join of the two frames as you see fit, specify in the comments if you ran an outer left, outer right, or inner join.\n",
    "   1. Run a GLM model on the resulting merged frame, you can regress on columns such as \"IsDepDelayed\", \"IsArrDelayed\", or \"WeatherDelay\". Pick predictors at your discretion.\n",
    "   1. Provide some insight on the resulting model which can be a classification or regression model."
   ]
  },
  {
   "cell_type": "code",
   "execution_count": null,
   "metadata": {
    "collapsed": true
   },
   "outputs": [],
   "source": []
  }
 ],
 "metadata": {
  "kernelspec": {
   "display_name": "Python 3",
   "language": "python",
   "name": "python3"
  },
  "language_info": {
   "codemirror_mode": {
    "name": "ipython",
    "version": 3
   },
   "file_extension": ".py",
   "mimetype": "text/x-python",
   "name": "python",
   "nbconvert_exporter": "python",
   "pygments_lexer": "ipython3",
   "version": "3.6.1"
  }
 },
 "nbformat": 4,
 "nbformat_minor": 2
}
