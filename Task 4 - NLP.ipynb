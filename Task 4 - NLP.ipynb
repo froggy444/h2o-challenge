{
 "cells": [
  {
   "cell_type": "markdown",
   "metadata": {},
   "source": [
    "Dataset:\n",
    "https://resources.lendingclub.com/LoanStats_2017Q1.csv.zip\n",
    "\n",
    "Problem:\n",
    "    \n",
    "For the following task we want you to import the Lending Club dataset. And complete the following tasks:\n",
    "\n",
    "   1. The file might be incompatible, find out why, fix and import data.\n",
    "   1. Subset the data to people less than $200k/annual to avoid huge outliers.\n",
    "   1. Transform the \"emp_title\" column into character or string column if it isn't already.\n",
    "   1. Tokenize the words in the column.\n",
    "   1. Build a word2vec model.\n",
    "   1. Transform the original dataset with the word2vec model.\n",
    "   1. Cbind the transformed vectors with the response column \"annual_inc\"\n",
    "   1. Build a regression model to predict annual income based on job title."
   ]
  },
  {
   "cell_type": "code",
   "execution_count": null,
   "metadata": {
    "collapsed": true
   },
   "outputs": [],
   "source": []
  }
 ],
 "metadata": {
  "kernelspec": {
   "display_name": "Python 3",
   "language": "python",
   "name": "python3"
  },
  "language_info": {
   "codemirror_mode": {
    "name": "ipython",
    "version": 3
   },
   "file_extension": ".py",
   "mimetype": "text/x-python",
   "name": "python",
   "nbconvert_exporter": "python",
   "pygments_lexer": "ipython3",
   "version": "3.6.1"
  }
 },
 "nbformat": 4,
 "nbformat_minor": 2
}
