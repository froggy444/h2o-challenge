{
 "cells": [
  {
   "cell_type": "markdown",
   "metadata": {},
   "source": [
    "Dataset:\n",
    "  \n",
    "  https://s3.amazonaws.com/h2o-public-test-data/smalldata/chicago/Chicago_Ohare_International_Airport.csv\n",
    "  \n",
    "  https://s3.amazonaws.com/h2o-airlines-unpacked/allyears2k.csv\n",
    "\n",
    "Use the Chicago Weather and Airlines dataset for the following chanllenge.\n",
    "\n",
    "   1. Import chicago weather and airlines dataset.\n",
    "   1. Transform weather data's Date column to three new columns \"Year\", \"Month\", \"DayofMonth\".\n",
    "   1. Question: What is the range of the Year column in airlines dataset?\n",
    "   1. Question: What is the range of the Year column in weather dataset?\n",
    "   1. Filter airlines data to only flights outgoing or incoming to Chicago, ORD.\n",
    "   1. Run a join of the two frames as you see fit, specify in the comments if you ran an outer left, outer right, or inner join.\n",
    "   1. Run a GLM model on the resulting merged frame, you can regress on columns such as \"IsDepDelayed\", \"IsArrDelayed\", or \"WeatherDelay\". Pick predictors at your discretion.\n",
    "   1. Provide some insight on the resulting model which can be a classification or regression model."
   ]
  },
  {
   "cell_type": "code",
   "execution_count": 2,
   "metadata": {},
   "outputs": [
    {
     "name": "stdout",
     "output_type": "stream",
     "text": [
      "Checking whether there is an H2O instance running at http://localhost:54321..... not found.\n",
      "Attempting to start a local H2O server...\n",
      "  Java Version: java version \"1.8.0_101\"; Java(TM) SE Runtime Environment (build 1.8.0_101-b13); Java HotSpot(TM) 64-Bit Server VM (build 25.101-b13, mixed mode)\n",
      "  Starting server from /Users/mihirzgr8/anaconda/lib/python3.6/site-packages/h2o/backend/bin/h2o.jar\n",
      "  Ice root: /var/folders/bc/btz_3q257nb_qgtzwwt7tj1m0000gn/T/tmpykini5mi\n",
      "  JVM stdout: /var/folders/bc/btz_3q257nb_qgtzwwt7tj1m0000gn/T/tmpykini5mi/h2o_mihirzgr8_started_from_python.out\n",
      "  JVM stderr: /var/folders/bc/btz_3q257nb_qgtzwwt7tj1m0000gn/T/tmpykini5mi/h2o_mihirzgr8_started_from_python.err\n",
      "  Server is running at http://127.0.0.1:54321\n",
      "Connecting to H2O server at http://127.0.0.1:54321... successful.\n"
     ]
    },
    {
     "data": {
      "text/html": [
       "<div style=\"overflow:auto\"><table style=\"width:50%\"><tr><td>H2O cluster uptime:</td>\n",
       "<td>02 secs</td></tr>\n",
       "<tr><td>H2O cluster timezone:</td>\n",
       "<td>America/New_York</td></tr>\n",
       "<tr><td>H2O data parsing timezone:</td>\n",
       "<td>UTC</td></tr>\n",
       "<tr><td>H2O cluster version:</td>\n",
       "<td>3.22.0.2</td></tr>\n",
       "<tr><td>H2O cluster version age:</td>\n",
       "<td>1 month and 18 days </td></tr>\n",
       "<tr><td>H2O cluster name:</td>\n",
       "<td>H2O_from_python_mihirzgr8_rwr1vd</td></tr>\n",
       "<tr><td>H2O cluster total nodes:</td>\n",
       "<td>1</td></tr>\n",
       "<tr><td>H2O cluster free memory:</td>\n",
       "<td>1.778 Gb</td></tr>\n",
       "<tr><td>H2O cluster total cores:</td>\n",
       "<td>0</td></tr>\n",
       "<tr><td>H2O cluster allowed cores:</td>\n",
       "<td>0</td></tr>\n",
       "<tr><td>H2O cluster status:</td>\n",
       "<td>accepting new members, healthy</td></tr>\n",
       "<tr><td>H2O connection url:</td>\n",
       "<td>http://127.0.0.1:54321</td></tr>\n",
       "<tr><td>H2O connection proxy:</td>\n",
       "<td>None</td></tr>\n",
       "<tr><td>H2O internal security:</td>\n",
       "<td>False</td></tr>\n",
       "<tr><td>H2O API Extensions:</td>\n",
       "<td>XGBoost, Algos, AutoML, Core V3, Core V4</td></tr>\n",
       "<tr><td>Python version:</td>\n",
       "<td>3.6.1 final</td></tr></table></div>"
      ],
      "text/plain": [
       "--------------------------  ----------------------------------------\n",
       "H2O cluster uptime:         02 secs\n",
       "H2O cluster timezone:       America/New_York\n",
       "H2O data parsing timezone:  UTC\n",
       "H2O cluster version:        3.22.0.2\n",
       "H2O cluster version age:    1 month and 18 days\n",
       "H2O cluster name:           H2O_from_python_mihirzgr8_rwr1vd\n",
       "H2O cluster total nodes:    1\n",
       "H2O cluster free memory:    1.778 Gb\n",
       "H2O cluster total cores:    0\n",
       "H2O cluster allowed cores:  0\n",
       "H2O cluster status:         accepting new members, healthy\n",
       "H2O connection url:         http://127.0.0.1:54321\n",
       "H2O connection proxy:\n",
       "H2O internal security:      False\n",
       "H2O API Extensions:         XGBoost, Algos, AutoML, Core V3, Core V4\n",
       "Python version:             3.6.1 final\n",
       "--------------------------  ----------------------------------------"
      ]
     },
     "metadata": {},
     "output_type": "display_data"
    }
   ],
   "source": [
    "#importing libraries\n",
    "import h2o\n",
    "h2o.init()\n",
    "import pandas as pd\n",
    "import seaborn as sns\n",
    "%matplotlib inline\n",
    "import matplotlib.pyplot as plt\n",
    "sns.set()"
   ]
  },
  {
   "cell_type": "code",
   "execution_count": 3,
   "metadata": {},
   "outputs": [
    {
     "name": "stdout",
     "output_type": "stream",
     "text": [
      "Parse progress: |█████████████████████████████████████████████████████████| 100%\n",
      "Parse progress: |█████████████████████████████████████████████████████████| 100%\n"
     ]
    }
   ],
   "source": [
    "#importing the datasets\n",
    "chicago=\"https://s3.amazonaws.com/h2o-public-test-data/smalldata/chicago/Chicago_Ohare_International_Airport.csv\"\n",
    "weather=h2o.import_file(path=chicago)\n",
    "air=\"https://s3.amazonaws.com/h2o-airlines-unpacked/allyears2k.csv\"\n",
    "airlines=h2o.import_file(path=air)"
   ]
  },
  {
   "cell_type": "code",
   "execution_count": 4,
   "metadata": {},
   "outputs": [
    {
     "name": "stdout",
     "output_type": "stream",
     "text": [
      "Rows:43978\n",
      "Cols:31\n",
      "\n",
      "\n"
     ]
    },
    {
     "data": {
      "text/html": [
       "<table>\n",
       "<thead>\n",
       "<tr><th>       </th><th>Year              </th><th>Month             </th><th>DayofMonth        </th><th>DayOfWeek        </th><th>DepTime           </th><th>CRSDepTime        </th><th>ArrTime           </th><th>CRSArrTime        </th><th>UniqueCarrier  </th><th>FlightNum        </th><th>TailNum  </th><th>ActualElapsedTime  </th><th>CRSElapsedTime    </th><th>AirTime          </th><th>ArrDelay          </th><th>DepDelay          </th><th>Origin  </th><th>Dest  </th><th>Distance         </th><th>TaxiIn           </th><th>TaxiOut          </th><th>Cancelled           </th><th>CancellationCode  </th><th>Diverted             </th><th>CarrierDelay      </th><th>WeatherDelay      </th><th>NASDelay          </th><th>SecurityDelay       </th><th>LateAircraftDelay  </th><th>IsArrDelayed  </th><th>IsDepDelayed  </th></tr>\n",
       "</thead>\n",
       "<tbody>\n",
       "<tr><td>type   </td><td>int               </td><td>int               </td><td>int               </td><td>int              </td><td>int               </td><td>int               </td><td>int               </td><td>int               </td><td>enum           </td><td>int              </td><td>enum     </td><td>int                </td><td>int               </td><td>int              </td><td>int               </td><td>int               </td><td>enum    </td><td>enum  </td><td>int              </td><td>int              </td><td>int              </td><td>int                 </td><td>enum              </td><td>int                  </td><td>int               </td><td>int               </td><td>int               </td><td>int                 </td><td>int                </td><td>enum          </td><td>enum          </td></tr>\n",
       "<tr><td>mins   </td><td>1987.0            </td><td>1.0               </td><td>1.0               </td><td>1.0              </td><td>1.0               </td><td>0.0               </td><td>1.0               </td><td>0.0               </td><td>               </td><td>1.0              </td><td>         </td><td>16.0               </td><td>17.0              </td><td>14.0             </td><td>-63.0             </td><td>-16.0             </td><td>        </td><td>      </td><td>11.0             </td><td>0.0              </td><td>0.0              </td><td>0.0                 </td><td>                  </td><td>0.0                  </td><td>0.0               </td><td>0.0               </td><td>0.0               </td><td>0.0                 </td><td>0.0                </td><td>              </td><td>              </td></tr>\n",
       "<tr><td>mean   </td><td>1997.5            </td><td>1.4090909090909094</td><td>14.601073263904684</td><td>3.820614852880986</td><td>1345.8466613820758</td><td>1313.2228614307157</td><td>1504.6341303788895</td><td>1485.2891673109277</td><td>               </td><td>818.8429896766567</td><td>         </td><td>124.81452913540424 </td><td>125.02156260661894</td><td>114.3161110907826</td><td>9.31711193698432  </td><td>10.007390655600114</td><td>        </td><td>      </td><td>730.1821905650504</td><td>5.381368059530624</td><td>14.16863418473206</td><td>0.024694165264450407</td><td>                  </td><td>0.0024785119832643593</td><td>4.047800291055633 </td><td>0.2893764692712415</td><td>4.855031904175528 </td><td>0.017015560282100085</td><td>7.620060450016787  </td><td>              </td><td>              </td></tr>\n",
       "<tr><td>maxs   </td><td>2008.0            </td><td>10.0              </td><td>31.0              </td><td>7.0              </td><td>2400.0            </td><td>2359.0            </td><td>2400.0            </td><td>2359.0            </td><td>               </td><td>3949.0           </td><td>         </td><td>475.0              </td><td>437.0             </td><td>402.0            </td><td>475.0             </td><td>473.0             </td><td>        </td><td>      </td><td>3365.0           </td><td>128.0            </td><td>254.0            </td><td>1.0                 </td><td>                  </td><td>1.0                  </td><td>369.0             </td><td>201.0             </td><td>323.0             </td><td>14.0                </td><td>373.0              </td><td>              </td><td>              </td></tr>\n",
       "<tr><td>sigma  </td><td>6.3443609017107025</td><td>1.8747113713439636</td><td>9.17579042586145  </td><td>1.905013119132896</td><td>465.3408991242338 </td><td>476.2511399925997 </td><td>484.347487903516  </td><td>492.7504341227009 </td><td>               </td><td>777.4043691636348</td><td>         </td><td>73.9744416605902   </td><td>73.4015946300093  </td><td>69.63632951506105</td><td>29.840221962414834</td><td>26.438809042916446</td><td>        </td><td>      </td><td>578.4380082304242</td><td>4.201979939864827</td><td>9.905085747204334</td><td>0.15519314135784237 </td><td>                  </td><td>0.049723487218862286 </td><td>16.205729904484194</td><td>4.4167798987341245</td><td>18.619776221475686</td><td>0.4039401821015118  </td><td>23.487565874106213 </td><td>              </td><td>              </td></tr>\n",
       "<tr><td>zeros  </td><td>0                 </td><td>0                 </td><td>0                 </td><td>0                </td><td>0                 </td><td>569               </td><td>0                 </td><td>569               </td><td>               </td><td>0                </td><td>         </td><td>0                  </td><td>0                 </td><td>0                </td><td>1514              </td><td>6393              </td><td>        </td><td>      </td><td>0                </td><td>623              </td><td>557              </td><td>42892               </td><td>                  </td><td>43869                </td><td>7344              </td><td>8840              </td><td>7388              </td><td>8914                </td><td>7140               </td><td>              </td><td>              </td></tr>\n",
       "<tr><td>missing</td><td>0                 </td><td>0                 </td><td>0                 </td><td>0                </td><td>1086              </td><td>0                 </td><td>1195              </td><td>0                 </td><td>0              </td><td>0                </td><td>32       </td><td>1195               </td><td>13                </td><td>16649            </td><td>1195              </td><td>1086              </td><td>0       </td><td>0     </td><td>35               </td><td>16026            </td><td>16024            </td><td>0                   </td><td>9774              </td><td>0                    </td><td>35045             </td><td>35045             </td><td>35045             </td><td>35045               </td><td>35045              </td><td>0             </td><td>0             </td></tr>\n",
       "<tr><td>0      </td><td>1987.0            </td><td>10.0              </td><td>14.0              </td><td>3.0              </td><td>741.0             </td><td>730.0             </td><td>912.0             </td><td>849.0             </td><td>PS             </td><td>1451.0           </td><td>NA       </td><td>91.0               </td><td>79.0              </td><td>nan              </td><td>23.0              </td><td>11.0              </td><td>SAN     </td><td>SFO   </td><td>447.0            </td><td>nan              </td><td>nan              </td><td>0.0                 </td><td>NA                </td><td>0.0                  </td><td>nan               </td><td>nan               </td><td>nan               </td><td>nan                 </td><td>nan                </td><td>YES           </td><td>YES           </td></tr>\n",
       "<tr><td>1      </td><td>1987.0            </td><td>10.0              </td><td>15.0              </td><td>4.0              </td><td>729.0             </td><td>730.0             </td><td>903.0             </td><td>849.0             </td><td>PS             </td><td>1451.0           </td><td>NA       </td><td>94.0               </td><td>79.0              </td><td>nan              </td><td>14.0              </td><td>-1.0              </td><td>SAN     </td><td>SFO   </td><td>447.0            </td><td>nan              </td><td>nan              </td><td>0.0                 </td><td>NA                </td><td>0.0                  </td><td>nan               </td><td>nan               </td><td>nan               </td><td>nan                 </td><td>nan                </td><td>YES           </td><td>NO            </td></tr>\n",
       "<tr><td>2      </td><td>1987.0            </td><td>10.0              </td><td>17.0              </td><td>6.0              </td><td>741.0             </td><td>730.0             </td><td>918.0             </td><td>849.0             </td><td>PS             </td><td>1451.0           </td><td>NA       </td><td>97.0               </td><td>79.0              </td><td>nan              </td><td>29.0              </td><td>11.0              </td><td>SAN     </td><td>SFO   </td><td>447.0            </td><td>nan              </td><td>nan              </td><td>0.0                 </td><td>NA                </td><td>0.0                  </td><td>nan               </td><td>nan               </td><td>nan               </td><td>nan                 </td><td>nan                </td><td>YES           </td><td>YES           </td></tr>\n",
       "<tr><td>3      </td><td>1987.0            </td><td>10.0              </td><td>18.0              </td><td>7.0              </td><td>729.0             </td><td>730.0             </td><td>847.0             </td><td>849.0             </td><td>PS             </td><td>1451.0           </td><td>NA       </td><td>78.0               </td><td>79.0              </td><td>nan              </td><td>-2.0              </td><td>-1.0              </td><td>SAN     </td><td>SFO   </td><td>447.0            </td><td>nan              </td><td>nan              </td><td>0.0                 </td><td>NA                </td><td>0.0                  </td><td>nan               </td><td>nan               </td><td>nan               </td><td>nan                 </td><td>nan                </td><td>NO            </td><td>NO            </td></tr>\n",
       "<tr><td>4      </td><td>1987.0            </td><td>10.0              </td><td>19.0              </td><td>1.0              </td><td>749.0             </td><td>730.0             </td><td>922.0             </td><td>849.0             </td><td>PS             </td><td>1451.0           </td><td>NA       </td><td>93.0               </td><td>79.0              </td><td>nan              </td><td>33.0              </td><td>19.0              </td><td>SAN     </td><td>SFO   </td><td>447.0            </td><td>nan              </td><td>nan              </td><td>0.0                 </td><td>NA                </td><td>0.0                  </td><td>nan               </td><td>nan               </td><td>nan               </td><td>nan                 </td><td>nan                </td><td>YES           </td><td>YES           </td></tr>\n",
       "<tr><td>5      </td><td>1987.0            </td><td>10.0              </td><td>21.0              </td><td>3.0              </td><td>728.0             </td><td>730.0             </td><td>848.0             </td><td>849.0             </td><td>PS             </td><td>1451.0           </td><td>NA       </td><td>80.0               </td><td>79.0              </td><td>nan              </td><td>-1.0              </td><td>-2.0              </td><td>SAN     </td><td>SFO   </td><td>447.0            </td><td>nan              </td><td>nan              </td><td>0.0                 </td><td>NA                </td><td>0.0                  </td><td>nan               </td><td>nan               </td><td>nan               </td><td>nan                 </td><td>nan                </td><td>NO            </td><td>NO            </td></tr>\n",
       "<tr><td>6      </td><td>1987.0            </td><td>10.0              </td><td>22.0              </td><td>4.0              </td><td>728.0             </td><td>730.0             </td><td>852.0             </td><td>849.0             </td><td>PS             </td><td>1451.0           </td><td>NA       </td><td>84.0               </td><td>79.0              </td><td>nan              </td><td>3.0               </td><td>-2.0              </td><td>SAN     </td><td>SFO   </td><td>447.0            </td><td>nan              </td><td>nan              </td><td>0.0                 </td><td>NA                </td><td>0.0                  </td><td>nan               </td><td>nan               </td><td>nan               </td><td>nan                 </td><td>nan                </td><td>YES           </td><td>NO            </td></tr>\n",
       "<tr><td>7      </td><td>1987.0            </td><td>10.0              </td><td>23.0              </td><td>5.0              </td><td>731.0             </td><td>730.0             </td><td>902.0             </td><td>849.0             </td><td>PS             </td><td>1451.0           </td><td>NA       </td><td>91.0               </td><td>79.0              </td><td>nan              </td><td>13.0              </td><td>1.0               </td><td>SAN     </td><td>SFO   </td><td>447.0            </td><td>nan              </td><td>nan              </td><td>0.0                 </td><td>NA                </td><td>0.0                  </td><td>nan               </td><td>nan               </td><td>nan               </td><td>nan                 </td><td>nan                </td><td>YES           </td><td>YES           </td></tr>\n",
       "<tr><td>8      </td><td>1987.0            </td><td>10.0              </td><td>24.0              </td><td>6.0              </td><td>744.0             </td><td>730.0             </td><td>908.0             </td><td>849.0             </td><td>PS             </td><td>1451.0           </td><td>NA       </td><td>84.0               </td><td>79.0              </td><td>nan              </td><td>19.0              </td><td>14.0              </td><td>SAN     </td><td>SFO   </td><td>447.0            </td><td>nan              </td><td>nan              </td><td>0.0                 </td><td>NA                </td><td>0.0                  </td><td>nan               </td><td>nan               </td><td>nan               </td><td>nan                 </td><td>nan                </td><td>YES           </td><td>YES           </td></tr>\n",
       "<tr><td>9      </td><td>1987.0            </td><td>10.0              </td><td>25.0              </td><td>7.0              </td><td>729.0             </td><td>730.0             </td><td>851.0             </td><td>849.0             </td><td>PS             </td><td>1451.0           </td><td>NA       </td><td>82.0               </td><td>79.0              </td><td>nan              </td><td>2.0               </td><td>-1.0              </td><td>SAN     </td><td>SFO   </td><td>447.0            </td><td>nan              </td><td>nan              </td><td>0.0                 </td><td>NA                </td><td>0.0                  </td><td>nan               </td><td>nan               </td><td>nan               </td><td>nan                 </td><td>nan                </td><td>YES           </td><td>NO            </td></tr>\n",
       "</tbody>\n",
       "</table>"
      ]
     },
     "metadata": {},
     "output_type": "display_data"
    }
   ],
   "source": [
    "airlines.describe()"
   ]
  },
  {
   "cell_type": "code",
   "execution_count": 5,
   "metadata": {
    "collapsed": true
   },
   "outputs": [],
   "source": [
    "#Split Date column of weather data in 3 columns-year, month, day\n",
    "weather['Year']=weather['Date'].year()\n",
    "weather['Month']=weather['Date'].month()\n",
    "weather['DayofMonth']=weather['Date'].day()"
   ]
  },
  {
   "cell_type": "code",
   "execution_count": 6,
   "metadata": {},
   "outputs": [
    {
     "name": "stdout",
     "output_type": "stream",
     "text": [
      "Rows:1461\n",
      "Cols:12\n",
      "\n",
      "\n"
     ]
    },
    {
     "data": {
      "text/html": [
       "<table>\n",
       "<thead>\n",
       "<tr><th>       </th><th>Date               </th><th>TmaxF             </th><th>TminF             </th><th>TmeanF           </th><th>PrcpIn            </th><th>SnowIn             </th><th>CDD               </th><th>HDD               </th><th>GDD               </th><th>Year              </th><th>Month             </th><th>DayofMonth        </th></tr>\n",
       "</thead>\n",
       "<tbody>\n",
       "<tr><td>type   </td><td>time               </td><td>int               </td><td>int               </td><td>real             </td><td>real              </td><td>real               </td><td>real              </td><td>real              </td><td>real              </td><td>int               </td><td>int               </td><td>int               </td></tr>\n",
       "<tr><td>mins   </td><td>1104537600000.0    </td><td>2.0               </td><td>-10.0             </td><td>-2.5             </td><td>0.0               </td><td>0.0                </td><td>0.0               </td><td>0.0               </td><td>0.0               </td><td>2005.0            </td><td>1.0               </td><td>1.0               </td></tr>\n",
       "<tr><td>mean   </td><td>1167609600000.0    </td><td>59.731006160164306</td><td>41.930869267624864</td><td>50.83093771389467</td><td>0.1258862324814508</td><td>0.13482210446631324</td><td>2.6830937713894594</td><td>16.85215605749488 </td><td>9.037987679671465 </td><td>2006.5010266940421</td><td>6.5229295003422445</td><td>15.729637234770715</td></tr>\n",
       "<tr><td>maxs   </td><td>1230681600000.0    </td><td>102.0             </td><td>80.0              </td><td>90.0             </td><td>6.64              </td><td>8.8                </td><td>25.0              </td><td>67.5              </td><td>40.0              </td><td>2008.0            </td><td>12.0              </td><td>31.0              </td></tr>\n",
       "<tr><td>sigma  </td><td>36452046342.55805  </td><td>21.570103698776933</td><td>19.021473406264455</td><td>20.00830720652739</td><td>0.346369873627173 </td><td>0.647605252469569  </td><td>4.817865753839847 </td><td>16.930054853264178</td><td>10.819760641130426</td><td>1.1187225040519035</td><td>3.449884042297707 </td><td>8.803105254885079 </td></tr>\n",
       "<tr><td>zeros  </td><td>0                  </td><td>0                 </td><td>4                 </td><td>0                </td><td>695               </td><td>1187               </td><td>1001              </td><td>471               </td><td>704               </td><td>0                 </td><td>0                 </td><td>0                 </td></tr>\n",
       "<tr><td>missing</td><td>0                  </td><td>0                 </td><td>0                 </td><td>0                </td><td>248               </td><td>140                </td><td>0                 </td><td>0                 </td><td>0                 </td><td>0                 </td><td>0                 </td><td>0                 </td></tr>\n",
       "<tr><td>0      </td><td>2005-01-01 00:00:00</td><td>41.0              </td><td>25.0              </td><td>33.0             </td><td>0.31              </td><td>0.0                </td><td>0.0               </td><td>32.0              </td><td>0.0               </td><td>2005.0            </td><td>1.0               </td><td>1.0               </td></tr>\n",
       "<tr><td>1      </td><td>2005-01-02 00:00:00</td><td>54.0              </td><td>33.0              </td><td>43.5             </td><td>0.08              </td><td>0.0                </td><td>0.0               </td><td>21.5              </td><td>0.0               </td><td>2005.0            </td><td>1.0               </td><td>2.0               </td></tr>\n",
       "<tr><td>2      </td><td>2005-01-03 00:00:00</td><td>36.0              </td><td>32.0              </td><td>34.0             </td><td>0.36              </td><td>0.0                </td><td>0.0               </td><td>31.0              </td><td>0.0               </td><td>2005.0            </td><td>1.0               </td><td>3.0               </td></tr>\n",
       "<tr><td>3      </td><td>2005-01-04 00:00:00</td><td>35.0              </td><td>30.0              </td><td>32.5             </td><td>0.05              </td><td>1.2                </td><td>0.0               </td><td>32.5              </td><td>0.0               </td><td>2005.0            </td><td>1.0               </td><td>4.0               </td></tr>\n",
       "<tr><td>4      </td><td>2005-01-05 00:00:00</td><td>31.0              </td><td>26.0              </td><td>28.5             </td><td>0.38              </td><td>6.2                </td><td>0.0               </td><td>36.5              </td><td>0.0               </td><td>2005.0            </td><td>1.0               </td><td>5.0               </td></tr>\n",
       "<tr><td>5      </td><td>2005-01-06 00:00:00</td><td>27.0              </td><td>12.0              </td><td>19.5             </td><td>0.19              </td><td>2.4                </td><td>0.0               </td><td>45.5              </td><td>0.0               </td><td>2005.0            </td><td>1.0               </td><td>6.0               </td></tr>\n",
       "<tr><td>6      </td><td>2005-01-07 00:00:00</td><td>28.0              </td><td>7.0               </td><td>17.5             </td><td>nan               </td><td>nan                </td><td>0.0               </td><td>47.5              </td><td>0.0               </td><td>2005.0            </td><td>1.0               </td><td>7.0               </td></tr>\n",
       "<tr><td>7      </td><td>2005-01-08 00:00:00</td><td>27.0              </td><td>24.0              </td><td>25.5             </td><td>nan               </td><td>nan                </td><td>0.0               </td><td>39.5              </td><td>0.0               </td><td>2005.0            </td><td>1.0               </td><td>8.0               </td></tr>\n",
       "<tr><td>8      </td><td>2005-01-09 00:00:00</td><td>34.0              </td><td>26.0              </td><td>30.0             </td><td>nan               </td><td>0.0                </td><td>0.0               </td><td>35.0              </td><td>0.0               </td><td>2005.0            </td><td>1.0               </td><td>9.0               </td></tr>\n",
       "<tr><td>9      </td><td>2005-01-10 00:00:00</td><td>35.0              </td><td>29.0              </td><td>32.0             </td><td>nan               </td><td>nan                </td><td>0.0               </td><td>33.0              </td><td>0.0               </td><td>2005.0            </td><td>1.0               </td><td>10.0              </td></tr>\n",
       "</tbody>\n",
       "</table>"
      ]
     },
     "metadata": {},
     "output_type": "display_data"
    }
   ],
   "source": [
    "weather.describe()"
   ]
  },
  {
   "cell_type": "code",
   "execution_count": 7,
   "metadata": {},
   "outputs": [
    {
     "data": {
      "text/html": [
       "<table>\n",
       "<thead>\n",
       "<tr><th>       </th><th>Year              </th></tr>\n",
       "</thead>\n",
       "<tbody>\n",
       "<tr><td>type   </td><td>int               </td></tr>\n",
       "<tr><td>mins   </td><td>1987.0            </td></tr>\n",
       "<tr><td>mean   </td><td>1997.5            </td></tr>\n",
       "<tr><td>maxs   </td><td>2008.0            </td></tr>\n",
       "<tr><td>sigma  </td><td>6.3443609017107025</td></tr>\n",
       "<tr><td>zeros  </td><td>0                 </td></tr>\n",
       "<tr><td>missing</td><td>0                 </td></tr>\n",
       "<tr><td>0      </td><td>1987.0            </td></tr>\n",
       "<tr><td>1      </td><td>1987.0            </td></tr>\n",
       "<tr><td>2      </td><td>1987.0            </td></tr>\n",
       "<tr><td>3      </td><td>1987.0            </td></tr>\n",
       "<tr><td>4      </td><td>1987.0            </td></tr>\n",
       "<tr><td>5      </td><td>1987.0            </td></tr>\n",
       "<tr><td>6      </td><td>1987.0            </td></tr>\n",
       "<tr><td>7      </td><td>1987.0            </td></tr>\n",
       "<tr><td>8      </td><td>1987.0            </td></tr>\n",
       "<tr><td>9      </td><td>1987.0            </td></tr>\n",
       "</tbody>\n",
       "</table>"
      ]
     },
     "metadata": {},
     "output_type": "display_data"
    }
   ],
   "source": [
    "airlines['Year'].summary()\n",
    "#Solution: Range(year) in Airlines dataset from 1987-2008"
   ]
  },
  {
   "cell_type": "code",
   "execution_count": 8,
   "metadata": {},
   "outputs": [
    {
     "data": {
      "text/html": [
       "<table>\n",
       "<thead>\n",
       "<tr><th>       </th><th>Year              </th></tr>\n",
       "</thead>\n",
       "<tbody>\n",
       "<tr><td>type   </td><td>int               </td></tr>\n",
       "<tr><td>mins   </td><td>2005.0            </td></tr>\n",
       "<tr><td>mean   </td><td>2006.5010266940421</td></tr>\n",
       "<tr><td>maxs   </td><td>2008.0            </td></tr>\n",
       "<tr><td>sigma  </td><td>1.1187225040519035</td></tr>\n",
       "<tr><td>zeros  </td><td>0                 </td></tr>\n",
       "<tr><td>missing</td><td>0                 </td></tr>\n",
       "<tr><td>0      </td><td>2005.0            </td></tr>\n",
       "<tr><td>1      </td><td>2005.0            </td></tr>\n",
       "<tr><td>2      </td><td>2005.0            </td></tr>\n",
       "<tr><td>3      </td><td>2005.0            </td></tr>\n",
       "<tr><td>4      </td><td>2005.0            </td></tr>\n",
       "<tr><td>5      </td><td>2005.0            </td></tr>\n",
       "<tr><td>6      </td><td>2005.0            </td></tr>\n",
       "<tr><td>7      </td><td>2005.0            </td></tr>\n",
       "<tr><td>8      </td><td>2005.0            </td></tr>\n",
       "<tr><td>9      </td><td>2005.0            </td></tr>\n",
       "</tbody>\n",
       "</table>"
      ]
     },
     "metadata": {},
     "output_type": "display_data"
    }
   ],
   "source": [
    "weather['Year'].summary()\n",
    "#Solution: Range(year) in Weather dataset from 2005-2008"
   ]
  },
  {
   "cell_type": "code",
   "execution_count": 9,
   "metadata": {
    "collapsed": true
   },
   "outputs": [],
   "source": [
    "mask = airlines['Origin'] =='ORD'\n",
    "cols_air = airlines[mask,:]"
   ]
  },
  {
   "cell_type": "code",
   "execution_count": 10,
   "metadata": {},
   "outputs": [
    {
     "data": {
      "text/plain": [
       "(2246, 31)"
      ]
     },
     "execution_count": 10,
     "metadata": {},
     "output_type": "execute_result"
    }
   ],
   "source": [
    "cols_air.shape"
   ]
  },
  {
   "cell_type": "code",
   "execution_count": 11,
   "metadata": {
    "collapsed": true
   },
   "outputs": [],
   "source": [
    "mask2=airlines['Dest']==\"ORD\"\n",
    "cols=airlines[mask2,:]"
   ]
  },
  {
   "cell_type": "code",
   "execution_count": 12,
   "metadata": {},
   "outputs": [
    {
     "data": {
      "text/plain": [
       "(2103, 31)"
      ]
     },
     "execution_count": 12,
     "metadata": {},
     "output_type": "execute_result"
    }
   ],
   "source": [
    "cols.shape"
   ]
  },
  {
   "cell_type": "code",
   "execution_count": 13,
   "metadata": {
    "collapsed": true
   },
   "outputs": [],
   "source": [
    "filtered=cols_air.rbind(cols)"
   ]
  },
  {
   "cell_type": "code",
   "execution_count": 14,
   "metadata": {},
   "outputs": [
    {
     "data": {
      "text/plain": [
       "(4349, 31)"
      ]
     },
     "execution_count": 14,
     "metadata": {},
     "output_type": "execute_result"
    }
   ],
   "source": [
    "filtered.shape"
   ]
  },
  {
   "cell_type": "code",
   "execution_count": 15,
   "metadata": {
    "collapsed": true
   },
   "outputs": [],
   "source": [
    "originFlights=filtered.group_by('Origin')"
   ]
  },
  {
   "cell_type": "code",
   "execution_count": 16,
   "metadata": {},
   "outputs": [
    {
     "name": "stdout",
     "output_type": "stream",
     "text": [
      "GroupBy: \n",
      "  Frame: py_10_sid_b1e0; by=[16]\n",
      "  Aggregates: dict_keys(['nrow_Year'])\n",
      "*** Use get_frame() to get groupby frame ***\n"
     ]
    },
    {
     "data": {
      "text/plain": []
     },
     "execution_count": 16,
     "metadata": {},
     "output_type": "execute_result"
    }
   ],
   "source": [
    "originFlights.count()"
   ]
  },
  {
   "cell_type": "code",
   "execution_count": 17,
   "metadata": {},
   "outputs": [
    {
     "data": {
      "text/html": [
       "<table>\n",
       "<thead>\n",
       "<tr><th>Origin  </th><th style=\"text-align: right;\">  nrow</th></tr>\n",
       "</thead>\n",
       "<tbody>\n",
       "<tr><td>ALB     </td><td style=\"text-align: right;\">     5</td></tr>\n",
       "<tr><td>ATL     </td><td style=\"text-align: right;\">    37</td></tr>\n",
       "<tr><td>BOS     </td><td style=\"text-align: right;\">   108</td></tr>\n",
       "<tr><td>BUF     </td><td style=\"text-align: right;\">    25</td></tr>\n",
       "<tr><td>BWI     </td><td style=\"text-align: right;\">    35</td></tr>\n",
       "<tr><td>CLE     </td><td style=\"text-align: right;\">     6</td></tr>\n",
       "<tr><td>CLT     </td><td style=\"text-align: right;\">    58</td></tr>\n",
       "<tr><td>CMH     </td><td style=\"text-align: right;\">    48</td></tr>\n",
       "<tr><td>DAY     </td><td style=\"text-align: right;\">    47</td></tr>\n",
       "<tr><td>DCA     </td><td style=\"text-align: right;\">    71</td></tr>\n",
       "</tbody>\n",
       "</table>"
      ]
     },
     "metadata": {},
     "output_type": "display_data"
    },
    {
     "data": {
      "text/plain": []
     },
     "execution_count": 17,
     "metadata": {},
     "output_type": "execute_result"
    }
   ],
   "source": [
    "originFlights.get_frame()"
   ]
  },
  {
   "cell_type": "code",
   "execution_count": 18,
   "metadata": {},
   "outputs": [
    {
     "data": {
      "text/html": [
       "<table>\n",
       "<thead>\n",
       "<tr><th style=\"text-align: right;\">  Year</th><th style=\"text-align: right;\">  Month</th><th style=\"text-align: right;\">  DayofMonth</th><th style=\"text-align: right;\">  DayOfWeek</th><th style=\"text-align: right;\">  DepTime</th><th style=\"text-align: right;\">  CRSDepTime</th><th style=\"text-align: right;\">  ArrTime</th><th style=\"text-align: right;\">  CRSArrTime</th><th>UniqueCarrier  </th><th style=\"text-align: right;\">  FlightNum</th><th>TailNum  </th><th style=\"text-align: right;\">  ActualElapsedTime</th><th style=\"text-align: right;\">  CRSElapsedTime</th><th style=\"text-align: right;\">  AirTime</th><th style=\"text-align: right;\">  ArrDelay</th><th style=\"text-align: right;\">  DepDelay</th><th>Origin  </th><th>Dest  </th><th style=\"text-align: right;\">  Distance</th><th style=\"text-align: right;\">  TaxiIn</th><th style=\"text-align: right;\">  TaxiOut</th><th style=\"text-align: right;\">  Cancelled</th><th>CancellationCode  </th><th style=\"text-align: right;\">  Diverted</th><th style=\"text-align: right;\">  CarrierDelay</th><th style=\"text-align: right;\">  WeatherDelay</th><th style=\"text-align: right;\">  NASDelay</th><th style=\"text-align: right;\">  SecurityDelay</th><th style=\"text-align: right;\">  LateAircraftDelay</th><th>IsArrDelayed  </th><th>IsDepDelayed  </th></tr>\n",
       "</thead>\n",
       "<tbody>\n",
       "<tr><td style=\"text-align: right;\">  1987</td><td style=\"text-align: right;\">     10</td><td style=\"text-align: right;\">          14</td><td style=\"text-align: right;\">          3</td><td style=\"text-align: right;\">      741</td><td style=\"text-align: right;\">         730</td><td style=\"text-align: right;\">      912</td><td style=\"text-align: right;\">         849</td><td>PS             </td><td style=\"text-align: right;\">       1451</td><td>NA       </td><td style=\"text-align: right;\">                 91</td><td style=\"text-align: right;\">              79</td><td style=\"text-align: right;\">      nan</td><td style=\"text-align: right;\">        23</td><td style=\"text-align: right;\">        11</td><td>SAN     </td><td>SFO   </td><td style=\"text-align: right;\">       447</td><td style=\"text-align: right;\">     nan</td><td style=\"text-align: right;\">      nan</td><td style=\"text-align: right;\">          0</td><td>NA                </td><td style=\"text-align: right;\">         0</td><td style=\"text-align: right;\">           nan</td><td style=\"text-align: right;\">           nan</td><td style=\"text-align: right;\">       nan</td><td style=\"text-align: right;\">            nan</td><td style=\"text-align: right;\">                nan</td><td>YES           </td><td>YES           </td></tr>\n",
       "<tr><td style=\"text-align: right;\">  1987</td><td style=\"text-align: right;\">     10</td><td style=\"text-align: right;\">          15</td><td style=\"text-align: right;\">          4</td><td style=\"text-align: right;\">      729</td><td style=\"text-align: right;\">         730</td><td style=\"text-align: right;\">      903</td><td style=\"text-align: right;\">         849</td><td>PS             </td><td style=\"text-align: right;\">       1451</td><td>NA       </td><td style=\"text-align: right;\">                 94</td><td style=\"text-align: right;\">              79</td><td style=\"text-align: right;\">      nan</td><td style=\"text-align: right;\">        14</td><td style=\"text-align: right;\">        -1</td><td>SAN     </td><td>SFO   </td><td style=\"text-align: right;\">       447</td><td style=\"text-align: right;\">     nan</td><td style=\"text-align: right;\">      nan</td><td style=\"text-align: right;\">          0</td><td>NA                </td><td style=\"text-align: right;\">         0</td><td style=\"text-align: right;\">           nan</td><td style=\"text-align: right;\">           nan</td><td style=\"text-align: right;\">       nan</td><td style=\"text-align: right;\">            nan</td><td style=\"text-align: right;\">                nan</td><td>YES           </td><td>NO            </td></tr>\n",
       "<tr><td style=\"text-align: right;\">  1987</td><td style=\"text-align: right;\">     10</td><td style=\"text-align: right;\">          17</td><td style=\"text-align: right;\">          6</td><td style=\"text-align: right;\">      741</td><td style=\"text-align: right;\">         730</td><td style=\"text-align: right;\">      918</td><td style=\"text-align: right;\">         849</td><td>PS             </td><td style=\"text-align: right;\">       1451</td><td>NA       </td><td style=\"text-align: right;\">                 97</td><td style=\"text-align: right;\">              79</td><td style=\"text-align: right;\">      nan</td><td style=\"text-align: right;\">        29</td><td style=\"text-align: right;\">        11</td><td>SAN     </td><td>SFO   </td><td style=\"text-align: right;\">       447</td><td style=\"text-align: right;\">     nan</td><td style=\"text-align: right;\">      nan</td><td style=\"text-align: right;\">          0</td><td>NA                </td><td style=\"text-align: right;\">         0</td><td style=\"text-align: right;\">           nan</td><td style=\"text-align: right;\">           nan</td><td style=\"text-align: right;\">       nan</td><td style=\"text-align: right;\">            nan</td><td style=\"text-align: right;\">                nan</td><td>YES           </td><td>YES           </td></tr>\n",
       "<tr><td style=\"text-align: right;\">  1987</td><td style=\"text-align: right;\">     10</td><td style=\"text-align: right;\">          18</td><td style=\"text-align: right;\">          7</td><td style=\"text-align: right;\">      729</td><td style=\"text-align: right;\">         730</td><td style=\"text-align: right;\">      847</td><td style=\"text-align: right;\">         849</td><td>PS             </td><td style=\"text-align: right;\">       1451</td><td>NA       </td><td style=\"text-align: right;\">                 78</td><td style=\"text-align: right;\">              79</td><td style=\"text-align: right;\">      nan</td><td style=\"text-align: right;\">        -2</td><td style=\"text-align: right;\">        -1</td><td>SAN     </td><td>SFO   </td><td style=\"text-align: right;\">       447</td><td style=\"text-align: right;\">     nan</td><td style=\"text-align: right;\">      nan</td><td style=\"text-align: right;\">          0</td><td>NA                </td><td style=\"text-align: right;\">         0</td><td style=\"text-align: right;\">           nan</td><td style=\"text-align: right;\">           nan</td><td style=\"text-align: right;\">       nan</td><td style=\"text-align: right;\">            nan</td><td style=\"text-align: right;\">                nan</td><td>NO            </td><td>NO            </td></tr>\n",
       "<tr><td style=\"text-align: right;\">  1987</td><td style=\"text-align: right;\">     10</td><td style=\"text-align: right;\">          19</td><td style=\"text-align: right;\">          1</td><td style=\"text-align: right;\">      749</td><td style=\"text-align: right;\">         730</td><td style=\"text-align: right;\">      922</td><td style=\"text-align: right;\">         849</td><td>PS             </td><td style=\"text-align: right;\">       1451</td><td>NA       </td><td style=\"text-align: right;\">                 93</td><td style=\"text-align: right;\">              79</td><td style=\"text-align: right;\">      nan</td><td style=\"text-align: right;\">        33</td><td style=\"text-align: right;\">        19</td><td>SAN     </td><td>SFO   </td><td style=\"text-align: right;\">       447</td><td style=\"text-align: right;\">     nan</td><td style=\"text-align: right;\">      nan</td><td style=\"text-align: right;\">          0</td><td>NA                </td><td style=\"text-align: right;\">         0</td><td style=\"text-align: right;\">           nan</td><td style=\"text-align: right;\">           nan</td><td style=\"text-align: right;\">       nan</td><td style=\"text-align: right;\">            nan</td><td style=\"text-align: right;\">                nan</td><td>YES           </td><td>YES           </td></tr>\n",
       "<tr><td style=\"text-align: right;\">  1987</td><td style=\"text-align: right;\">     10</td><td style=\"text-align: right;\">          21</td><td style=\"text-align: right;\">          3</td><td style=\"text-align: right;\">      728</td><td style=\"text-align: right;\">         730</td><td style=\"text-align: right;\">      848</td><td style=\"text-align: right;\">         849</td><td>PS             </td><td style=\"text-align: right;\">       1451</td><td>NA       </td><td style=\"text-align: right;\">                 80</td><td style=\"text-align: right;\">              79</td><td style=\"text-align: right;\">      nan</td><td style=\"text-align: right;\">        -1</td><td style=\"text-align: right;\">        -2</td><td>SAN     </td><td>SFO   </td><td style=\"text-align: right;\">       447</td><td style=\"text-align: right;\">     nan</td><td style=\"text-align: right;\">      nan</td><td style=\"text-align: right;\">          0</td><td>NA                </td><td style=\"text-align: right;\">         0</td><td style=\"text-align: right;\">           nan</td><td style=\"text-align: right;\">           nan</td><td style=\"text-align: right;\">       nan</td><td style=\"text-align: right;\">            nan</td><td style=\"text-align: right;\">                nan</td><td>NO            </td><td>NO            </td></tr>\n",
       "<tr><td style=\"text-align: right;\">  1987</td><td style=\"text-align: right;\">     10</td><td style=\"text-align: right;\">          22</td><td style=\"text-align: right;\">          4</td><td style=\"text-align: right;\">      728</td><td style=\"text-align: right;\">         730</td><td style=\"text-align: right;\">      852</td><td style=\"text-align: right;\">         849</td><td>PS             </td><td style=\"text-align: right;\">       1451</td><td>NA       </td><td style=\"text-align: right;\">                 84</td><td style=\"text-align: right;\">              79</td><td style=\"text-align: right;\">      nan</td><td style=\"text-align: right;\">         3</td><td style=\"text-align: right;\">        -2</td><td>SAN     </td><td>SFO   </td><td style=\"text-align: right;\">       447</td><td style=\"text-align: right;\">     nan</td><td style=\"text-align: right;\">      nan</td><td style=\"text-align: right;\">          0</td><td>NA                </td><td style=\"text-align: right;\">         0</td><td style=\"text-align: right;\">           nan</td><td style=\"text-align: right;\">           nan</td><td style=\"text-align: right;\">       nan</td><td style=\"text-align: right;\">            nan</td><td style=\"text-align: right;\">                nan</td><td>YES           </td><td>NO            </td></tr>\n",
       "<tr><td style=\"text-align: right;\">  1987</td><td style=\"text-align: right;\">     10</td><td style=\"text-align: right;\">          23</td><td style=\"text-align: right;\">          5</td><td style=\"text-align: right;\">      731</td><td style=\"text-align: right;\">         730</td><td style=\"text-align: right;\">      902</td><td style=\"text-align: right;\">         849</td><td>PS             </td><td style=\"text-align: right;\">       1451</td><td>NA       </td><td style=\"text-align: right;\">                 91</td><td style=\"text-align: right;\">              79</td><td style=\"text-align: right;\">      nan</td><td style=\"text-align: right;\">        13</td><td style=\"text-align: right;\">         1</td><td>SAN     </td><td>SFO   </td><td style=\"text-align: right;\">       447</td><td style=\"text-align: right;\">     nan</td><td style=\"text-align: right;\">      nan</td><td style=\"text-align: right;\">          0</td><td>NA                </td><td style=\"text-align: right;\">         0</td><td style=\"text-align: right;\">           nan</td><td style=\"text-align: right;\">           nan</td><td style=\"text-align: right;\">       nan</td><td style=\"text-align: right;\">            nan</td><td style=\"text-align: right;\">                nan</td><td>YES           </td><td>YES           </td></tr>\n",
       "<tr><td style=\"text-align: right;\">  1987</td><td style=\"text-align: right;\">     10</td><td style=\"text-align: right;\">          24</td><td style=\"text-align: right;\">          6</td><td style=\"text-align: right;\">      744</td><td style=\"text-align: right;\">         730</td><td style=\"text-align: right;\">      908</td><td style=\"text-align: right;\">         849</td><td>PS             </td><td style=\"text-align: right;\">       1451</td><td>NA       </td><td style=\"text-align: right;\">                 84</td><td style=\"text-align: right;\">              79</td><td style=\"text-align: right;\">      nan</td><td style=\"text-align: right;\">        19</td><td style=\"text-align: right;\">        14</td><td>SAN     </td><td>SFO   </td><td style=\"text-align: right;\">       447</td><td style=\"text-align: right;\">     nan</td><td style=\"text-align: right;\">      nan</td><td style=\"text-align: right;\">          0</td><td>NA                </td><td style=\"text-align: right;\">         0</td><td style=\"text-align: right;\">           nan</td><td style=\"text-align: right;\">           nan</td><td style=\"text-align: right;\">       nan</td><td style=\"text-align: right;\">            nan</td><td style=\"text-align: right;\">                nan</td><td>YES           </td><td>YES           </td></tr>\n",
       "<tr><td style=\"text-align: right;\">  1987</td><td style=\"text-align: right;\">     10</td><td style=\"text-align: right;\">          25</td><td style=\"text-align: right;\">          7</td><td style=\"text-align: right;\">      729</td><td style=\"text-align: right;\">         730</td><td style=\"text-align: right;\">      851</td><td style=\"text-align: right;\">         849</td><td>PS             </td><td style=\"text-align: right;\">       1451</td><td>NA       </td><td style=\"text-align: right;\">                 82</td><td style=\"text-align: right;\">              79</td><td style=\"text-align: right;\">      nan</td><td style=\"text-align: right;\">         2</td><td style=\"text-align: right;\">        -1</td><td>SAN     </td><td>SFO   </td><td style=\"text-align: right;\">       447</td><td style=\"text-align: right;\">     nan</td><td style=\"text-align: right;\">      nan</td><td style=\"text-align: right;\">          0</td><td>NA                </td><td style=\"text-align: right;\">         0</td><td style=\"text-align: right;\">           nan</td><td style=\"text-align: right;\">           nan</td><td style=\"text-align: right;\">       nan</td><td style=\"text-align: right;\">            nan</td><td style=\"text-align: right;\">                nan</td><td>YES           </td><td>NO            </td></tr>\n",
       "</tbody>\n",
       "</table>"
      ]
     },
     "metadata": {},
     "output_type": "display_data"
    },
    {
     "data": {
      "text/plain": []
     },
     "execution_count": 18,
     "metadata": {},
     "output_type": "execute_result"
    }
   ],
   "source": [
    "airlines"
   ]
  },
  {
   "cell_type": "code",
   "execution_count": 19,
   "metadata": {
    "collapsed": true
   },
   "outputs": [],
   "source": [
    "#Full outer join on the dataframes \n",
    "merged=filtered.merge(weather)"
   ]
  },
  {
   "cell_type": "code",
   "execution_count": 20,
   "metadata": {},
   "outputs": [
    {
     "data": {
      "text/html": [
       "<table>\n",
       "<thead>\n",
       "<tr><th style=\"text-align: right;\">  Month</th><th style=\"text-align: right;\">  Year</th><th style=\"text-align: right;\">  DayofMonth</th><th style=\"text-align: right;\">  DayOfWeek</th><th style=\"text-align: right;\">  DepTime</th><th style=\"text-align: right;\">  CRSDepTime</th><th style=\"text-align: right;\">  ArrTime</th><th style=\"text-align: right;\">  CRSArrTime</th><th>UniqueCarrier  </th><th style=\"text-align: right;\">  FlightNum</th><th>TailNum  </th><th style=\"text-align: right;\">  ActualElapsedTime</th><th style=\"text-align: right;\">  CRSElapsedTime</th><th style=\"text-align: right;\">  AirTime</th><th style=\"text-align: right;\">  ArrDelay</th><th style=\"text-align: right;\">  DepDelay</th><th>Origin  </th><th>Dest  </th><th style=\"text-align: right;\">  Distance</th><th style=\"text-align: right;\">  TaxiIn</th><th style=\"text-align: right;\">  TaxiOut</th><th style=\"text-align: right;\">  Cancelled</th><th>CancellationCode  </th><th style=\"text-align: right;\">  Diverted</th><th style=\"text-align: right;\">  CarrierDelay</th><th style=\"text-align: right;\">  WeatherDelay</th><th style=\"text-align: right;\">  NASDelay</th><th style=\"text-align: right;\">  SecurityDelay</th><th style=\"text-align: right;\">  LateAircraftDelay</th><th>IsArrDelayed  </th><th>IsDepDelayed  </th><th>Date               </th><th style=\"text-align: right;\">  TmaxF</th><th style=\"text-align: right;\">  TminF</th><th style=\"text-align: right;\">  TmeanF</th><th style=\"text-align: right;\">  PrcpIn</th><th style=\"text-align: right;\">  SnowIn</th><th style=\"text-align: right;\">  CDD</th><th style=\"text-align: right;\">  HDD</th><th style=\"text-align: right;\">  GDD</th></tr>\n",
       "</thead>\n",
       "<tbody>\n",
       "<tr><td style=\"text-align: right;\">      1</td><td style=\"text-align: right;\">  2005</td><td style=\"text-align: right;\">           1</td><td style=\"text-align: right;\">          6</td><td style=\"text-align: right;\">     2220</td><td style=\"text-align: right;\">        2045</td><td style=\"text-align: right;\">      119</td><td style=\"text-align: right;\">        2359</td><td>UA             </td><td style=\"text-align: right;\">        544</td><td>N325UA   </td><td style=\"text-align: right;\">                119</td><td style=\"text-align: right;\">             134</td><td style=\"text-align: right;\">      103</td><td style=\"text-align: right;\">        80</td><td style=\"text-align: right;\">        95</td><td>ORD     </td><td>BOS   </td><td style=\"text-align: right;\">       867</td><td style=\"text-align: right;\">       2</td><td style=\"text-align: right;\">       14</td><td style=\"text-align: right;\">          0</td><td>                  </td><td style=\"text-align: right;\">         0</td><td style=\"text-align: right;\">            58</td><td style=\"text-align: right;\">             0</td><td style=\"text-align: right;\">         0</td><td style=\"text-align: right;\">              0</td><td style=\"text-align: right;\">                 22</td><td>YES           </td><td>YES           </td><td>2005-01-01 00:00:00</td><td style=\"text-align: right;\">     41</td><td style=\"text-align: right;\">     25</td><td style=\"text-align: right;\">      33</td><td style=\"text-align: right;\">    0.31</td><td style=\"text-align: right;\">       0</td><td style=\"text-align: right;\">    0</td><td style=\"text-align: right;\">   32</td><td style=\"text-align: right;\">    0</td></tr>\n",
       "<tr><td style=\"text-align: right;\">      1</td><td style=\"text-align: right;\">  2005</td><td style=\"text-align: right;\">           1</td><td style=\"text-align: right;\">          6</td><td style=\"text-align: right;\">     2342</td><td style=\"text-align: right;\">        2115</td><td style=\"text-align: right;\">      151</td><td style=\"text-align: right;\">        2319</td><td>UA             </td><td style=\"text-align: right;\">        546</td><td>N386UA   </td><td style=\"text-align: right;\">                 69</td><td style=\"text-align: right;\">              64</td><td style=\"text-align: right;\">       42</td><td style=\"text-align: right;\">       152</td><td style=\"text-align: right;\">       147</td><td>ORD     </td><td>DAY   </td><td style=\"text-align: right;\">       240</td><td style=\"text-align: right;\">       7</td><td style=\"text-align: right;\">       20</td><td style=\"text-align: right;\">          0</td><td>                  </td><td style=\"text-align: right;\">         0</td><td style=\"text-align: right;\">             7</td><td style=\"text-align: right;\">             0</td><td style=\"text-align: right;\">         5</td><td style=\"text-align: right;\">              0</td><td style=\"text-align: right;\">                140</td><td>YES           </td><td>YES           </td><td>2005-01-01 00:00:00</td><td style=\"text-align: right;\">     41</td><td style=\"text-align: right;\">     25</td><td style=\"text-align: right;\">      33</td><td style=\"text-align: right;\">    0.31</td><td style=\"text-align: right;\">       0</td><td style=\"text-align: right;\">    0</td><td style=\"text-align: right;\">   32</td><td style=\"text-align: right;\">    0</td></tr>\n",
       "<tr><td style=\"text-align: right;\">      1</td><td style=\"text-align: right;\">  2005</td><td style=\"text-align: right;\">           1</td><td style=\"text-align: right;\">          6</td><td style=\"text-align: right;\">     1303</td><td style=\"text-align: right;\">        1205</td><td style=\"text-align: right;\">     1435</td><td style=\"text-align: right;\">        1329</td><td>UA             </td><td style=\"text-align: right;\">        547</td><td>N849UA   </td><td style=\"text-align: right;\">                 92</td><td style=\"text-align: right;\">              84</td><td style=\"text-align: right;\">       69</td><td style=\"text-align: right;\">        66</td><td style=\"text-align: right;\">        58</td><td>ORD     </td><td>MSP   </td><td style=\"text-align: right;\">       334</td><td style=\"text-align: right;\">       8</td><td style=\"text-align: right;\">       15</td><td style=\"text-align: right;\">          0</td><td>                  </td><td style=\"text-align: right;\">         0</td><td style=\"text-align: right;\">             0</td><td style=\"text-align: right;\">             0</td><td style=\"text-align: right;\">         8</td><td style=\"text-align: right;\">              0</td><td style=\"text-align: right;\">                 58</td><td>YES           </td><td>YES           </td><td>2005-01-01 00:00:00</td><td style=\"text-align: right;\">     41</td><td style=\"text-align: right;\">     25</td><td style=\"text-align: right;\">      33</td><td style=\"text-align: right;\">    0.31</td><td style=\"text-align: right;\">       0</td><td style=\"text-align: right;\">    0</td><td style=\"text-align: right;\">   32</td><td style=\"text-align: right;\">    0</td></tr>\n",
       "<tr><td style=\"text-align: right;\">      1</td><td style=\"text-align: right;\">  2005</td><td style=\"text-align: right;\">           1</td><td style=\"text-align: right;\">          6</td><td style=\"text-align: right;\">     1213</td><td style=\"text-align: right;\">        1215</td><td style=\"text-align: right;\">     1344</td><td style=\"text-align: right;\">        1353</td><td>UA             </td><td style=\"text-align: right;\">        553</td><td>N912UA   </td><td style=\"text-align: right;\">                 91</td><td style=\"text-align: right;\">              98</td><td style=\"text-align: right;\">       73</td><td style=\"text-align: right;\">        -9</td><td style=\"text-align: right;\">        -2</td><td>ORD     </td><td>OMA   </td><td style=\"text-align: right;\">       416</td><td style=\"text-align: right;\">       3</td><td style=\"text-align: right;\">       15</td><td style=\"text-align: right;\">          0</td><td>                  </td><td style=\"text-align: right;\">         0</td><td style=\"text-align: right;\">             0</td><td style=\"text-align: right;\">             0</td><td style=\"text-align: right;\">         0</td><td style=\"text-align: right;\">              0</td><td style=\"text-align: right;\">                  0</td><td>NO            </td><td>NO            </td><td>2005-01-01 00:00:00</td><td style=\"text-align: right;\">     41</td><td style=\"text-align: right;\">     25</td><td style=\"text-align: right;\">      33</td><td style=\"text-align: right;\">    0.31</td><td style=\"text-align: right;\">       0</td><td style=\"text-align: right;\">    0</td><td style=\"text-align: right;\">   32</td><td style=\"text-align: right;\">    0</td></tr>\n",
       "<tr><td style=\"text-align: right;\">      1</td><td style=\"text-align: right;\">  2005</td><td style=\"text-align: right;\">           1</td><td style=\"text-align: right;\">          6</td><td style=\"text-align: right;\">      646</td><td style=\"text-align: right;\">         650</td><td style=\"text-align: right;\">      901</td><td style=\"text-align: right;\">         916</td><td>UA             </td><td style=\"text-align: right;\">        556</td><td>N914UA   </td><td style=\"text-align: right;\">                 75</td><td style=\"text-align: right;\">              86</td><td style=\"text-align: right;\">       60</td><td style=\"text-align: right;\">       -15</td><td style=\"text-align: right;\">        -4</td><td>ORD     </td><td>PIT   </td><td style=\"text-align: right;\">       412</td><td style=\"text-align: right;\">       4</td><td style=\"text-align: right;\">       11</td><td style=\"text-align: right;\">          0</td><td>                  </td><td style=\"text-align: right;\">         0</td><td style=\"text-align: right;\">             0</td><td style=\"text-align: right;\">             0</td><td style=\"text-align: right;\">         0</td><td style=\"text-align: right;\">              0</td><td style=\"text-align: right;\">                  0</td><td>NO            </td><td>NO            </td><td>2005-01-01 00:00:00</td><td style=\"text-align: right;\">     41</td><td style=\"text-align: right;\">     25</td><td style=\"text-align: right;\">      33</td><td style=\"text-align: right;\">    0.31</td><td style=\"text-align: right;\">       0</td><td style=\"text-align: right;\">    0</td><td style=\"text-align: right;\">   32</td><td style=\"text-align: right;\">    0</td></tr>\n",
       "<tr><td style=\"text-align: right;\">      1</td><td style=\"text-align: right;\">  2005</td><td style=\"text-align: right;\">           1</td><td style=\"text-align: right;\">          6</td><td style=\"text-align: right;\">     1457</td><td style=\"text-align: right;\">        1500</td><td style=\"text-align: right;\">     1755</td><td style=\"text-align: right;\">        1742</td><td>UA             </td><td style=\"text-align: right;\">        559</td><td>N531UA   </td><td style=\"text-align: right;\">                298</td><td style=\"text-align: right;\">             282</td><td style=\"text-align: right;\">      268</td><td style=\"text-align: right;\">        13</td><td style=\"text-align: right;\">        -3</td><td>ORD     </td><td>SJC   </td><td style=\"text-align: right;\">      1829</td><td style=\"text-align: right;\">       4</td><td style=\"text-align: right;\">       26</td><td style=\"text-align: right;\">          0</td><td>                  </td><td style=\"text-align: right;\">         0</td><td style=\"text-align: right;\">             0</td><td style=\"text-align: right;\">             0</td><td style=\"text-align: right;\">         0</td><td style=\"text-align: right;\">              0</td><td style=\"text-align: right;\">                  0</td><td>YES           </td><td>NO            </td><td>2005-01-01 00:00:00</td><td style=\"text-align: right;\">     41</td><td style=\"text-align: right;\">     25</td><td style=\"text-align: right;\">      33</td><td style=\"text-align: right;\">    0.31</td><td style=\"text-align: right;\">       0</td><td style=\"text-align: right;\">    0</td><td style=\"text-align: right;\">   32</td><td style=\"text-align: right;\">    0</td></tr>\n",
       "<tr><td style=\"text-align: right;\">      1</td><td style=\"text-align: right;\">  2005</td><td style=\"text-align: right;\">           1</td><td style=\"text-align: right;\">          6</td><td style=\"text-align: right;\">     1348</td><td style=\"text-align: right;\">        1335</td><td style=\"text-align: right;\">     1612</td><td style=\"text-align: right;\">        1615</td><td>UA             </td><td style=\"text-align: right;\">        562</td><td>N938UA   </td><td style=\"text-align: right;\">                 84</td><td style=\"text-align: right;\">             100</td><td style=\"text-align: right;\">       62</td><td style=\"text-align: right;\">        -3</td><td style=\"text-align: right;\">        13</td><td>ORD     </td><td>BUF   </td><td style=\"text-align: right;\">       473</td><td style=\"text-align: right;\">       3</td><td style=\"text-align: right;\">       19</td><td style=\"text-align: right;\">          0</td><td>                  </td><td style=\"text-align: right;\">         0</td><td style=\"text-align: right;\">             0</td><td style=\"text-align: right;\">             0</td><td style=\"text-align: right;\">         0</td><td style=\"text-align: right;\">              0</td><td style=\"text-align: right;\">                  0</td><td>NO            </td><td>YES           </td><td>2005-01-01 00:00:00</td><td style=\"text-align: right;\">     41</td><td style=\"text-align: right;\">     25</td><td style=\"text-align: right;\">      33</td><td style=\"text-align: right;\">    0.31</td><td style=\"text-align: right;\">       0</td><td style=\"text-align: right;\">    0</td><td style=\"text-align: right;\">   32</td><td style=\"text-align: right;\">    0</td></tr>\n",
       "<tr><td style=\"text-align: right;\">      1</td><td style=\"text-align: right;\">  2005</td><td style=\"text-align: right;\">           1</td><td style=\"text-align: right;\">          6</td><td style=\"text-align: right;\">      nan</td><td style=\"text-align: right;\">        1605</td><td style=\"text-align: right;\">      nan</td><td style=\"text-align: right;\">        1828</td><td>UA             </td><td style=\"text-align: right;\">        564</td><td>000000   </td><td style=\"text-align: right;\">                nan</td><td style=\"text-align: right;\">              83</td><td style=\"text-align: right;\">      nan</td><td style=\"text-align: right;\">       nan</td><td style=\"text-align: right;\">       nan</td><td>ORD     </td><td>CLE   </td><td style=\"text-align: right;\">       316</td><td style=\"text-align: right;\">       0</td><td style=\"text-align: right;\">        0</td><td style=\"text-align: right;\">          1</td><td>A                 </td><td style=\"text-align: right;\">         0</td><td style=\"text-align: right;\">             0</td><td style=\"text-align: right;\">             0</td><td style=\"text-align: right;\">         0</td><td style=\"text-align: right;\">              0</td><td style=\"text-align: right;\">                  0</td><td>YES           </td><td>YES           </td><td>2005-01-01 00:00:00</td><td style=\"text-align: right;\">     41</td><td style=\"text-align: right;\">     25</td><td style=\"text-align: right;\">      33</td><td style=\"text-align: right;\">    0.31</td><td style=\"text-align: right;\">       0</td><td style=\"text-align: right;\">    0</td><td style=\"text-align: right;\">   32</td><td style=\"text-align: right;\">    0</td></tr>\n",
       "<tr><td style=\"text-align: right;\">      1</td><td style=\"text-align: right;\">  2005</td><td style=\"text-align: right;\">           1</td><td style=\"text-align: right;\">          6</td><td style=\"text-align: right;\">     2000</td><td style=\"text-align: right;\">        1955</td><td style=\"text-align: right;\">     2255</td><td style=\"text-align: right;\">        2231</td><td>UA             </td><td style=\"text-align: right;\">        565</td><td>N342UA   </td><td style=\"text-align: right;\">                235</td><td style=\"text-align: right;\">             216</td><td style=\"text-align: right;\">      198</td><td style=\"text-align: right;\">        24</td><td style=\"text-align: right;\">         5</td><td>ORD     </td><td>SLC   </td><td style=\"text-align: right;\">      1249</td><td style=\"text-align: right;\">       3</td><td style=\"text-align: right;\">       34</td><td style=\"text-align: right;\">          0</td><td>                  </td><td style=\"text-align: right;\">         0</td><td style=\"text-align: right;\">             0</td><td style=\"text-align: right;\">             0</td><td style=\"text-align: right;\">        24</td><td style=\"text-align: right;\">              0</td><td style=\"text-align: right;\">                  0</td><td>YES           </td><td>YES           </td><td>2005-01-01 00:00:00</td><td style=\"text-align: right;\">     41</td><td style=\"text-align: right;\">     25</td><td style=\"text-align: right;\">      33</td><td style=\"text-align: right;\">    0.31</td><td style=\"text-align: right;\">       0</td><td style=\"text-align: right;\">    0</td><td style=\"text-align: right;\">   32</td><td style=\"text-align: right;\">    0</td></tr>\n",
       "<tr><td style=\"text-align: right;\">      1</td><td style=\"text-align: right;\">  2005</td><td style=\"text-align: right;\">           1</td><td style=\"text-align: right;\">          6</td><td style=\"text-align: right;\">     1830</td><td style=\"text-align: right;\">        1745</td><td style=\"text-align: right;\">     2123</td><td style=\"text-align: right;\">        2053</td><td>UA             </td><td style=\"text-align: right;\">        566</td><td>N932UA   </td><td style=\"text-align: right;\">                113</td><td style=\"text-align: right;\">             128</td><td style=\"text-align: right;\">       89</td><td style=\"text-align: right;\">        30</td><td style=\"text-align: right;\">        45</td><td>ORD     </td><td>ATL   </td><td style=\"text-align: right;\">       606</td><td style=\"text-align: right;\">       5</td><td style=\"text-align: right;\">       19</td><td style=\"text-align: right;\">          0</td><td>                  </td><td style=\"text-align: right;\">         0</td><td style=\"text-align: right;\">            15</td><td style=\"text-align: right;\">             0</td><td style=\"text-align: right;\">         0</td><td style=\"text-align: right;\">              0</td><td style=\"text-align: right;\">                 15</td><td>YES           </td><td>YES           </td><td>2005-01-01 00:00:00</td><td style=\"text-align: right;\">     41</td><td style=\"text-align: right;\">     25</td><td style=\"text-align: right;\">      33</td><td style=\"text-align: right;\">    0.31</td><td style=\"text-align: right;\">       0</td><td style=\"text-align: right;\">    0</td><td style=\"text-align: right;\">   32</td><td style=\"text-align: right;\">    0</td></tr>\n",
       "</tbody>\n",
       "</table>"
      ]
     },
     "metadata": {},
     "output_type": "display_data"
    },
    {
     "data": {
      "text/plain": []
     },
     "execution_count": 20,
     "metadata": {},
     "output_type": "execute_result"
    }
   ],
   "source": [
    "merged"
   ]
  },
  {
   "cell_type": "code",
   "execution_count": 21,
   "metadata": {},
   "outputs": [
    {
     "name": "stdout",
     "output_type": "stream",
     "text": [
      "Rows:1087\n",
      "Cols:1\n",
      "\n",
      "\n"
     ]
    },
    {
     "data": {
      "text/html": [
       "<table>\n",
       "<thead>\n",
       "<tr><th>       </th><th>Year               </th></tr>\n",
       "</thead>\n",
       "<tbody>\n",
       "<tr><td>type   </td><td>int                </td></tr>\n",
       "<tr><td>mins   </td><td>2005.0             </td></tr>\n",
       "<tr><td>mean   </td><td>2005.0515179392833 </td></tr>\n",
       "<tr><td>maxs   </td><td>2006.0             </td></tr>\n",
       "<tr><td>sigma  </td><td>0.22115342082683845</td></tr>\n",
       "<tr><td>zeros  </td><td>0                  </td></tr>\n",
       "<tr><td>missing</td><td>0                  </td></tr>\n",
       "<tr><td>0      </td><td>2005.0             </td></tr>\n",
       "<tr><td>1      </td><td>2005.0             </td></tr>\n",
       "<tr><td>2      </td><td>2005.0             </td></tr>\n",
       "<tr><td>3      </td><td>2005.0             </td></tr>\n",
       "<tr><td>4      </td><td>2005.0             </td></tr>\n",
       "<tr><td>5      </td><td>2005.0             </td></tr>\n",
       "<tr><td>6      </td><td>2005.0             </td></tr>\n",
       "<tr><td>7      </td><td>2005.0             </td></tr>\n",
       "<tr><td>8      </td><td>2005.0             </td></tr>\n",
       "<tr><td>9      </td><td>2005.0             </td></tr>\n",
       "</tbody>\n",
       "</table>"
      ]
     },
     "metadata": {},
     "output_type": "display_data"
    }
   ],
   "source": [
    "merged['Year'].describe()"
   ]
  },
  {
   "cell_type": "code",
   "execution_count": 33,
   "metadata": {
    "collapsed": true
   },
   "outputs": [],
   "source": [
    "response_columns= \"IsDepDelayed\"\n",
    "merged['IsDepDelayed'] = merged['IsDepDelayed'].asfactor()\n",
    "merged['IsArrDelayed'] = merged['IsArrDelayed'].asfactor()\n",
    "merged['WeatherDelay'] = merged['WeatherDelay'].asfactor()\n",
    "\n",
    "predictors = merged.col_names\n",
    "predictors.remove('IsDepDelayed')\n",
    "predictors.remove('IsArrDelayed')\n",
    "predictors.remove('WeatherDelay')\n",
    "\n",
    "\n"
   ]
  },
  {
   "cell_type": "code",
   "execution_count": 32,
   "metadata": {
    "collapsed": true
   },
   "outputs": [],
   "source": [
    "train, valid, test = merged.split_frame(ratios=[.8, .1])"
   ]
  },
  {
   "cell_type": "code",
   "execution_count": 34,
   "metadata": {},
   "outputs": [
    {
     "name": "stdout",
     "output_type": "stream",
     "text": [
      "glm Model Build progress: |███████████████████████████████████████████████| 100%\n"
     ]
    }
   ],
   "source": [
    "from h2o.estimators.glm import H2OGeneralizedLinearEstimator\n",
    "glm_logistic = H2OGeneralizedLinearEstimator(family = \"binomial\")\n",
    "glm_logistic.train(x=predictors, y= response_columns, training_frame=train, validation_frame=valid)"
   ]
  },
  {
   "cell_type": "code",
   "execution_count": 25,
   "metadata": {},
   "outputs": [
    {
     "name": "stdout",
     "output_type": "stream",
     "text": [
      "Warning: This model doesn't have variable importances\n"
     ]
    }
   ],
   "source": [
    "glm_logistic.varimp()"
   ]
  },
  {
   "cell_type": "code",
   "execution_count": 29,
   "metadata": {},
   "outputs": [
    {
     "name": "stdout",
     "output_type": "stream",
     "text": [
      "\n",
      "ModelMetricsBinomialGLM: glm\n",
      "** Reported on train data. **\n",
      "\n",
      "MSE: 0.11624142890868006\n",
      "RMSE: 0.34094197293480905\n",
      "LogLoss: 0.38316427057852365\n",
      "Null degrees of freedom: 870\n",
      "Residual degrees of freedom: 863\n",
      "Null deviance: 1207.461240429542\n",
      "Residual deviance: 667.4721593477882\n",
      "AIC: 683.4721593477882\n",
      "AUC: 0.9511705156596013\n",
      "pr_auc: 0.9362945175049213\n",
      "Gini: 0.9023410313192026\n",
      "Confusion Matrix (Act/Pred) for max f1 @ threshold = 0.39527902817781124: \n"
     ]
    },
    {
     "data": {
      "text/html": [
       "<div style=\"overflow:auto\"><table style=\"width:50%\"><tr><td><b></b></td>\n",
       "<td><b>NO</b></td>\n",
       "<td><b>YES</b></td>\n",
       "<td><b>Error</b></td>\n",
       "<td><b>Rate</b></td></tr>\n",
       "<tr><td>NO</td>\n",
       "<td>384.0</td>\n",
       "<td>51.0</td>\n",
       "<td>0.1172</td>\n",
       "<td> (51.0/435.0)</td></tr>\n",
       "<tr><td>YES</td>\n",
       "<td>49.0</td>\n",
       "<td>387.0</td>\n",
       "<td>0.1124</td>\n",
       "<td> (49.0/436.0)</td></tr>\n",
       "<tr><td>Total</td>\n",
       "<td>433.0</td>\n",
       "<td>438.0</td>\n",
       "<td>0.1148</td>\n",
       "<td> (100.0/871.0)</td></tr></table></div>"
      ],
      "text/plain": [
       "       NO    YES    Error    Rate\n",
       "-----  ----  -----  -------  -------------\n",
       "NO     384   51     0.1172   (51.0/435.0)\n",
       "YES    49    387    0.1124   (49.0/436.0)\n",
       "Total  433   438    0.1148   (100.0/871.0)"
      ]
     },
     "metadata": {},
     "output_type": "display_data"
    },
    {
     "name": "stdout",
     "output_type": "stream",
     "text": [
      "Maximum Metrics: Maximum metrics at their respective thresholds\n",
      "\n"
     ]
    },
    {
     "data": {
      "text/html": [
       "<div style=\"overflow:auto\"><table style=\"width:50%\"><tr><td><b>metric</b></td>\n",
       "<td><b>threshold</b></td>\n",
       "<td><b>value</b></td>\n",
       "<td><b>idx</b></td></tr>\n",
       "<tr><td>max f1</td>\n",
       "<td>0.3952790</td>\n",
       "<td>0.8855835</td>\n",
       "<td>235.0</td></tr>\n",
       "<tr><td>max f2</td>\n",
       "<td>0.2887867</td>\n",
       "<td>0.9019525</td>\n",
       "<td>305.0</td></tr>\n",
       "<tr><td>max f0point5</td>\n",
       "<td>0.4503116</td>\n",
       "<td>0.9206432</td>\n",
       "<td>201.0</td></tr>\n",
       "<tr><td>max accuracy</td>\n",
       "<td>0.4248603</td>\n",
       "<td>0.8897819</td>\n",
       "<td>216.0</td></tr>\n",
       "<tr><td>max precision</td>\n",
       "<td>0.9999506</td>\n",
       "<td>1.0</td>\n",
       "<td>0.0</td></tr>\n",
       "<tr><td>max recall</td>\n",
       "<td>0.2207292</td>\n",
       "<td>1.0</td>\n",
       "<td>361.0</td></tr>\n",
       "<tr><td>max specificity</td>\n",
       "<td>0.9999506</td>\n",
       "<td>1.0</td>\n",
       "<td>0.0</td></tr>\n",
       "<tr><td>max absolute_mcc</td>\n",
       "<td>0.4248603</td>\n",
       "<td>0.7828953</td>\n",
       "<td>216.0</td></tr>\n",
       "<tr><td>max min_per_class_accuracy</td>\n",
       "<td>0.3961619</td>\n",
       "<td>0.8850575</td>\n",
       "<td>234.0</td></tr>\n",
       "<tr><td>max mean_per_class_accuracy</td>\n",
       "<td>0.4248603</td>\n",
       "<td>0.8898344</td>\n",
       "<td>216.0</td></tr></table></div>"
      ],
      "text/plain": [
       "metric                       threshold    value     idx\n",
       "---------------------------  -----------  --------  -----\n",
       "max f1                       0.395279     0.885584  235\n",
       "max f2                       0.288787     0.901952  305\n",
       "max f0point5                 0.450312     0.920643  201\n",
       "max accuracy                 0.42486      0.889782  216\n",
       "max precision                0.999951     1         0\n",
       "max recall                   0.220729     1         361\n",
       "max specificity              0.999951     1         0\n",
       "max absolute_mcc             0.42486      0.782895  216\n",
       "max min_per_class_accuracy   0.396162     0.885057  234\n",
       "max mean_per_class_accuracy  0.42486      0.889834  216"
      ]
     },
     "metadata": {},
     "output_type": "display_data"
    },
    {
     "name": "stdout",
     "output_type": "stream",
     "text": [
      "Gains/Lift Table: Avg response rate: 50.06 %, avg score: 50.06 %\n",
      "\n"
     ]
    },
    {
     "data": {
      "text/html": [
       "<div style=\"overflow:auto\"><table style=\"width:50%\"><tr><td><b></b></td>\n",
       "<td><b>group</b></td>\n",
       "<td><b>cumulative_data_fraction</b></td>\n",
       "<td><b>lower_threshold</b></td>\n",
       "<td><b>lift</b></td>\n",
       "<td><b>cumulative_lift</b></td>\n",
       "<td><b>response_rate</b></td>\n",
       "<td><b>score</b></td>\n",
       "<td><b>cumulative_response_rate</b></td>\n",
       "<td><b>cumulative_score</b></td>\n",
       "<td><b>capture_rate</b></td>\n",
       "<td><b>cumulative_capture_rate</b></td>\n",
       "<td><b>gain</b></td>\n",
       "<td><b>cumulative_gain</b></td></tr>\n",
       "<tr><td></td>\n",
       "<td>1</td>\n",
       "<td>0.0103330</td>\n",
       "<td>0.9998949</td>\n",
       "<td>1.9977064</td>\n",
       "<td>1.9977064</td>\n",
       "<td>1.0</td>\n",
       "<td>0.9999572</td>\n",
       "<td>1.0</td>\n",
       "<td>0.9999572</td>\n",
       "<td>0.0206422</td>\n",
       "<td>0.0206422</td>\n",
       "<td>99.7706422</td>\n",
       "<td>99.7706422</td></tr>\n",
       "<tr><td></td>\n",
       "<td>2</td>\n",
       "<td>0.0206659</td>\n",
       "<td>0.9971272</td>\n",
       "<td>1.9977064</td>\n",
       "<td>1.9977064</td>\n",
       "<td>1.0</td>\n",
       "<td>0.9983987</td>\n",
       "<td>1.0</td>\n",
       "<td>0.9991780</td>\n",
       "<td>0.0206422</td>\n",
       "<td>0.0412844</td>\n",
       "<td>99.7706422</td>\n",
       "<td>99.7706422</td></tr>\n",
       "<tr><td></td>\n",
       "<td>3</td>\n",
       "<td>0.0309989</td>\n",
       "<td>0.9951626</td>\n",
       "<td>1.9977064</td>\n",
       "<td>1.9977064</td>\n",
       "<td>1.0</td>\n",
       "<td>0.9961369</td>\n",
       "<td>1.0</td>\n",
       "<td>0.9981643</td>\n",
       "<td>0.0206422</td>\n",
       "<td>0.0619266</td>\n",
       "<td>99.7706422</td>\n",
       "<td>99.7706422</td></tr>\n",
       "<tr><td></td>\n",
       "<td>4</td>\n",
       "<td>0.0401837</td>\n",
       "<td>0.9939032</td>\n",
       "<td>1.9977064</td>\n",
       "<td>1.9977064</td>\n",
       "<td>1.0</td>\n",
       "<td>0.9947097</td>\n",
       "<td>1.0</td>\n",
       "<td>0.9973747</td>\n",
       "<td>0.0183486</td>\n",
       "<td>0.0802752</td>\n",
       "<td>99.7706422</td>\n",
       "<td>99.7706422</td></tr>\n",
       "<tr><td></td>\n",
       "<td>5</td>\n",
       "<td>0.0505166</td>\n",
       "<td>0.9897648</td>\n",
       "<td>1.9977064</td>\n",
       "<td>1.9977064</td>\n",
       "<td>1.0</td>\n",
       "<td>0.9924232</td>\n",
       "<td>1.0</td>\n",
       "<td>0.9963619</td>\n",
       "<td>0.0206422</td>\n",
       "<td>0.1009174</td>\n",
       "<td>99.7706422</td>\n",
       "<td>99.7706422</td></tr>\n",
       "<tr><td></td>\n",
       "<td>6</td>\n",
       "<td>0.1010333</td>\n",
       "<td>0.9486599</td>\n",
       "<td>1.9977064</td>\n",
       "<td>1.9977064</td>\n",
       "<td>1.0</td>\n",
       "<td>0.9728976</td>\n",
       "<td>1.0</td>\n",
       "<td>0.9846297</td>\n",
       "<td>0.1009174</td>\n",
       "<td>0.2018349</td>\n",
       "<td>99.7706422</td>\n",
       "<td>99.7706422</td></tr>\n",
       "<tr><td></td>\n",
       "<td>7</td>\n",
       "<td>0.1504018</td>\n",
       "<td>0.8888590</td>\n",
       "<td>1.9977064</td>\n",
       "<td>1.9977064</td>\n",
       "<td>1.0</td>\n",
       "<td>0.9136270</td>\n",
       "<td>1.0</td>\n",
       "<td>0.9613235</td>\n",
       "<td>0.0986239</td>\n",
       "<td>0.3004587</td>\n",
       "<td>99.7706422</td>\n",
       "<td>99.7706422</td></tr>\n",
       "<tr><td></td>\n",
       "<td>8</td>\n",
       "<td>0.2009185</td>\n",
       "<td>0.8393560</td>\n",
       "<td>1.9977064</td>\n",
       "<td>1.9977064</td>\n",
       "<td>1.0</td>\n",
       "<td>0.8693024</td>\n",
       "<td>1.0</td>\n",
       "<td>0.9381867</td>\n",
       "<td>0.1009174</td>\n",
       "<td>0.4013761</td>\n",
       "<td>99.7706422</td>\n",
       "<td>99.7706422</td></tr>\n",
       "<tr><td></td>\n",
       "<td>9</td>\n",
       "<td>0.3008037</td>\n",
       "<td>0.6481688</td>\n",
       "<td>1.9517821</td>\n",
       "<td>1.9824568</td>\n",
       "<td>0.9770115</td>\n",
       "<td>0.7601109</td>\n",
       "<td>0.9923664</td>\n",
       "<td>0.8790547</td>\n",
       "<td>0.1949541</td>\n",
       "<td>0.5963303</td>\n",
       "<td>95.1782136</td>\n",
       "<td>98.2456755</td></tr>\n",
       "<tr><td></td>\n",
       "<td>10</td>\n",
       "<td>0.4006889</td>\n",
       "<td>0.4754153</td>\n",
       "<td>1.6991986</td>\n",
       "<td>1.9118451</td>\n",
       "<td>0.8505747</td>\n",
       "<td>0.5517948</td>\n",
       "<td>0.9570201</td>\n",
       "<td>0.7974742</td>\n",
       "<td>0.1697248</td>\n",
       "<td>0.7660550</td>\n",
       "<td>69.9198566</td>\n",
       "<td>91.1845114</td></tr>\n",
       "<tr><td></td>\n",
       "<td>11</td>\n",
       "<td>0.5005741</td>\n",
       "<td>0.3961619</td>\n",
       "<td>1.1940314</td>\n",
       "<td>1.7686116</td>\n",
       "<td>0.5977011</td>\n",
       "<td>0.4314252</td>\n",
       "<td>0.8853211</td>\n",
       "<td>0.7244323</td>\n",
       "<td>0.1192661</td>\n",
       "<td>0.8853211</td>\n",
       "<td>19.4031425</td>\n",
       "<td>76.8611649</td></tr>\n",
       "<tr><td></td>\n",
       "<td>12</td>\n",
       "<td>0.6004592</td>\n",
       "<td>0.3365374</td>\n",
       "<td>0.4822050</td>\n",
       "<td>1.5546205</td>\n",
       "<td>0.2413793</td>\n",
       "<td>0.3597372</td>\n",
       "<td>0.7782027</td>\n",
       "<td>0.6637660</td>\n",
       "<td>0.0481651</td>\n",
       "<td>0.9334862</td>\n",
       "<td>-51.7795002</td>\n",
       "<td>55.4620485</td></tr>\n",
       "<tr><td></td>\n",
       "<td>13</td>\n",
       "<td>0.7003444</td>\n",
       "<td>0.2887307</td>\n",
       "<td>0.3903564</td>\n",
       "<td>1.3885697</td>\n",
       "<td>0.1954023</td>\n",
       "<td>0.3112902</td>\n",
       "<td>0.6950820</td>\n",
       "<td>0.6134948</td>\n",
       "<td>0.0389908</td>\n",
       "<td>0.9724771</td>\n",
       "<td>-60.9643573</td>\n",
       "<td>38.8569710</td></tr>\n",
       "<tr><td></td>\n",
       "<td>14</td>\n",
       "<td>0.8002296</td>\n",
       "<td>0.2588451</td>\n",
       "<td>0.1607350</td>\n",
       "<td>1.2353106</td>\n",
       "<td>0.0804598</td>\n",
       "<td>0.2728643</td>\n",
       "<td>0.6183644</td>\n",
       "<td>0.5709771</td>\n",
       "<td>0.0160550</td>\n",
       "<td>0.9885321</td>\n",
       "<td>-83.9265001</td>\n",
       "<td>23.5310571</td></tr>\n",
       "<tr><td></td>\n",
       "<td>15</td>\n",
       "<td>0.9001148</td>\n",
       "<td>0.2234064</td>\n",
       "<td>0.0918486</td>\n",
       "<td>1.1084213</td>\n",
       "<td>0.0459770</td>\n",
       "<td>0.2393729</td>\n",
       "<td>0.5548469</td>\n",
       "<td>0.5341792</td>\n",
       "<td>0.0091743</td>\n",
       "<td>0.9977064</td>\n",
       "<td>-90.8151429</td>\n",
       "<td>10.8421293</td></tr>\n",
       "<tr><td></td>\n",
       "<td>16</td>\n",
       "<td>1.0</td>\n",
       "<td>0.1276494</td>\n",
       "<td>0.0229621</td>\n",
       "<td>1.0</td>\n",
       "<td>0.0114943</td>\n",
       "<td>0.1976259</td>\n",
       "<td>0.5005741</td>\n",
       "<td>0.5005625</td>\n",
       "<td>0.0022936</td>\n",
       "<td>1.0</td>\n",
       "<td>-97.7037857</td>\n",
       "<td>0.0</td></tr></table></div>"
      ],
      "text/plain": [
       "    group    cumulative_data_fraction    lower_threshold    lift       cumulative_lift    response_rate    score     cumulative_response_rate    cumulative_score    capture_rate    cumulative_capture_rate    gain      cumulative_gain\n",
       "--  -------  --------------------------  -----------------  ---------  -----------------  ---------------  --------  --------------------------  ------------------  --------------  -------------------------  --------  -----------------\n",
       "    1        0.010333                    0.999895           1.99771    1.99771            1                0.999957  1                           0.999957            0.0206422       0.0206422                  99.7706   99.7706\n",
       "    2        0.0206659                   0.997127           1.99771    1.99771            1                0.998399  1                           0.999178            0.0206422       0.0412844                  99.7706   99.7706\n",
       "    3        0.0309989                   0.995163           1.99771    1.99771            1                0.996137  1                           0.998164            0.0206422       0.0619266                  99.7706   99.7706\n",
       "    4        0.0401837                   0.993903           1.99771    1.99771            1                0.99471   1                           0.997375            0.0183486       0.0802752                  99.7706   99.7706\n",
       "    5        0.0505166                   0.989765           1.99771    1.99771            1                0.992423  1                           0.996362            0.0206422       0.100917                   99.7706   99.7706\n",
       "    6        0.101033                    0.94866            1.99771    1.99771            1                0.972898  1                           0.98463             0.100917        0.201835                   99.7706   99.7706\n",
       "    7        0.150402                    0.888859           1.99771    1.99771            1                0.913627  1                           0.961323            0.0986239       0.300459                   99.7706   99.7706\n",
       "    8        0.200918                    0.839356           1.99771    1.99771            1                0.869302  1                           0.938187            0.100917        0.401376                   99.7706   99.7706\n",
       "    9        0.300804                    0.648169           1.95178    1.98246            0.977011         0.760111  0.992366                    0.879055            0.194954        0.59633                    95.1782   98.2457\n",
       "    10       0.400689                    0.475415           1.6992     1.91185            0.850575         0.551795  0.95702                     0.797474            0.169725        0.766055                   69.9199   91.1845\n",
       "    11       0.500574                    0.396162           1.19403    1.76861            0.597701         0.431425  0.885321                    0.724432            0.119266        0.885321                   19.4031   76.8612\n",
       "    12       0.600459                    0.336537           0.482205   1.55462            0.241379         0.359737  0.778203                    0.663766            0.0481651       0.933486                   -51.7795  55.462\n",
       "    13       0.700344                    0.288731           0.390356   1.38857            0.195402         0.31129   0.695082                    0.613495            0.0389908       0.972477                   -60.9644  38.857\n",
       "    14       0.80023                     0.258845           0.160735   1.23531            0.0804598        0.272864  0.618364                    0.570977            0.016055        0.988532                   -83.9265  23.5311\n",
       "    15       0.900115                    0.223406           0.0918486  1.10842            0.045977         0.239373  0.554847                    0.534179            0.00917431      0.997706                   -90.8151  10.8421\n",
       "    16       1                           0.127649           0.0229621  1                  0.0114943        0.197626  0.500574                    0.500562            0.00229358      1                          -97.7038  0"
      ]
     },
     "metadata": {},
     "output_type": "display_data"
    },
    {
     "name": "stdout",
     "output_type": "stream",
     "text": [
      "\n"
     ]
    },
    {
     "data": {
      "text/plain": []
     },
     "execution_count": 29,
     "metadata": {},
     "output_type": "execute_result"
    }
   ],
   "source": [
    "glm_logistic.model_performance()"
   ]
  },
  {
   "cell_type": "code",
   "execution_count": 35,
   "metadata": {
    "collapsed": true
   },
   "outputs": [],
   "source": [
    "response_columns= [\"IsDepDelayed\",\"IsArrDelayed\",\"WeatherDelay\"]\n",
    "merged['IsDepDelayed'] = merged['IsDepDelayed'].asfactor()\n",
    "merged['IsArrDelayed'] = merged['IsArrDelayed'].asfactor()\n",
    "merged['WeatherDelay'] = merged['WeatherDelay'].asfactor()\n",
    "\n",
    "predictors = merged.col_names\n",
    "predictors.remove('IsDepDelayed')\n",
    "predictors.remove('IsArrDelayed')\n",
    "predictors.remove('WeatherDelay')\n",
    "\n"
   ]
  },
  {
   "cell_type": "code",
   "execution_count": 40,
   "metadata": {
    "collapsed": true
   },
   "outputs": [],
   "source": [
    "response_columns= \"IsDepDelayed\"\n",
    "merged['IsDepDelayed'] = merged['IsDepDelayed'].asfactor()\n",
    "merged['IsArrDelayed'] = merged['IsArrDelayed'].asfactor()\n",
    "merged['WeatherDelay'] = merged['WeatherDelay'].asfactor()\n",
    "\n",
    "predictors = merged.col_names\n",
    "predictors.remove('IsDepDelayed')\n",
    "predictors.remove('IsArrDelayed')\n",
    "predictors.remove('WeatherDelay')\n",
    "\n"
   ]
  },
  {
   "cell_type": "code",
   "execution_count": 41,
   "metadata": {},
   "outputs": [
    {
     "name": "stdout",
     "output_type": "stream",
     "text": [
      "drf Model Build progress: |███████████████████████████████████████████████| 100%\n"
     ]
    }
   ],
   "source": [
    "# Define model\n",
    "from h2o.estimators import H2ORandomForestEstimator\n",
    "model = H2ORandomForestEstimator(ntrees=50, max_depth=20, nfolds=10)\n",
    "\n",
    "# Train model\n",
    "model.train(x=predictors, y=response_columns, training_frame=train)"
   ]
  },
  {
   "cell_type": "code",
   "execution_count": 44,
   "metadata": {},
   "outputs": [
    {
     "name": "stdout",
     "output_type": "stream",
     "text": [
      "\n",
      "ModelMetricsBinomial: drf\n",
      "** Reported on test data. **\n",
      "\n",
      "MSE: 0.014338343734653225\n",
      "RMSE: 0.11974282331168422\n",
      "LogLoss: 0.09044578525580202\n",
      "Mean Per-Class Error: 0.0\n",
      "AUC: 1.0\n",
      "pr_auc: 0.6304347826086957\n",
      "Gini: 1.0\n",
      "Confusion Matrix (Act/Pred) for max f1 @ threshold = 0.6: \n"
     ]
    },
    {
     "data": {
      "text/html": [
       "<div style=\"overflow:auto\"><table style=\"width:50%\"><tr><td><b></b></td>\n",
       "<td><b>NO</b></td>\n",
       "<td><b>YES</b></td>\n",
       "<td><b>Error</b></td>\n",
       "<td><b>Rate</b></td></tr>\n",
       "<tr><td>NO</td>\n",
       "<td>62.0</td>\n",
       "<td>0.0</td>\n",
       "<td>0.0</td>\n",
       "<td> (0.0/62.0)</td></tr>\n",
       "<tr><td>YES</td>\n",
       "<td>0.0</td>\n",
       "<td>46.0</td>\n",
       "<td>0.0</td>\n",
       "<td> (0.0/46.0)</td></tr>\n",
       "<tr><td>Total</td>\n",
       "<td>62.0</td>\n",
       "<td>46.0</td>\n",
       "<td>0.0</td>\n",
       "<td> (0.0/108.0)</td></tr></table></div>"
      ],
      "text/plain": [
       "       NO    YES    Error    Rate\n",
       "-----  ----  -----  -------  -----------\n",
       "NO     62    0      0        (0.0/62.0)\n",
       "YES    0     46     0        (0.0/46.0)\n",
       "Total  62    46     0        (0.0/108.0)"
      ]
     },
     "metadata": {},
     "output_type": "display_data"
    },
    {
     "name": "stdout",
     "output_type": "stream",
     "text": [
      "Maximum Metrics: Maximum metrics at their respective thresholds\n",
      "\n"
     ]
    },
    {
     "data": {
      "text/html": [
       "<div style=\"overflow:auto\"><table style=\"width:50%\"><tr><td><b>metric</b></td>\n",
       "<td><b>threshold</b></td>\n",
       "<td><b>value</b></td>\n",
       "<td><b>idx</b></td></tr>\n",
       "<tr><td>max f1</td>\n",
       "<td>0.6</td>\n",
       "<td>1.0</td>\n",
       "<td>12.0</td></tr>\n",
       "<tr><td>max f2</td>\n",
       "<td>0.6</td>\n",
       "<td>1.0</td>\n",
       "<td>12.0</td></tr>\n",
       "<tr><td>max f0point5</td>\n",
       "<td>0.6</td>\n",
       "<td>1.0</td>\n",
       "<td>12.0</td></tr>\n",
       "<tr><td>max accuracy</td>\n",
       "<td>0.6</td>\n",
       "<td>1.0</td>\n",
       "<td>12.0</td></tr>\n",
       "<tr><td>max precision</td>\n",
       "<td>1.0</td>\n",
       "<td>1.0</td>\n",
       "<td>0.0</td></tr>\n",
       "<tr><td>max recall</td>\n",
       "<td>0.6</td>\n",
       "<td>1.0</td>\n",
       "<td>12.0</td></tr>\n",
       "<tr><td>max specificity</td>\n",
       "<td>1.0</td>\n",
       "<td>1.0</td>\n",
       "<td>0.0</td></tr>\n",
       "<tr><td>max absolute_mcc</td>\n",
       "<td>0.6</td>\n",
       "<td>1.0</td>\n",
       "<td>12.0</td></tr>\n",
       "<tr><td>max min_per_class_accuracy</td>\n",
       "<td>0.6</td>\n",
       "<td>1.0</td>\n",
       "<td>12.0</td></tr>\n",
       "<tr><td>max mean_per_class_accuracy</td>\n",
       "<td>0.6</td>\n",
       "<td>1.0</td>\n",
       "<td>12.0</td></tr></table></div>"
      ],
      "text/plain": [
       "metric                       threshold    value    idx\n",
       "---------------------------  -----------  -------  -----\n",
       "max f1                       0.6          1        12\n",
       "max f2                       0.6          1        12\n",
       "max f0point5                 0.6          1        12\n",
       "max accuracy                 0.6          1        12\n",
       "max precision                1            1        0\n",
       "max recall                   0.6          1        12\n",
       "max specificity              1            1        0\n",
       "max absolute_mcc             0.6          1        12\n",
       "max min_per_class_accuracy   0.6          1        12\n",
       "max mean_per_class_accuracy  0.6          1        12"
      ]
     },
     "metadata": {},
     "output_type": "display_data"
    },
    {
     "name": "stdout",
     "output_type": "stream",
     "text": [
      "Gains/Lift Table: Avg response rate: 42.59 %, avg score: 45.51 %\n",
      "\n"
     ]
    },
    {
     "data": {
      "text/html": [
       "<div style=\"overflow:auto\"><table style=\"width:50%\"><tr><td><b></b></td>\n",
       "<td><b>group</b></td>\n",
       "<td><b>cumulative_data_fraction</b></td>\n",
       "<td><b>lower_threshold</b></td>\n",
       "<td><b>lift</b></td>\n",
       "<td><b>cumulative_lift</b></td>\n",
       "<td><b>response_rate</b></td>\n",
       "<td><b>score</b></td>\n",
       "<td><b>cumulative_response_rate</b></td>\n",
       "<td><b>cumulative_score</b></td>\n",
       "<td><b>capture_rate</b></td>\n",
       "<td><b>cumulative_capture_rate</b></td>\n",
       "<td><b>gain</b></td>\n",
       "<td><b>cumulative_gain</b></td></tr>\n",
       "<tr><td></td>\n",
       "<td>1</td>\n",
       "<td>0.1574074</td>\n",
       "<td>1.0</td>\n",
       "<td>2.3478261</td>\n",
       "<td>2.3478261</td>\n",
       "<td>1.0</td>\n",
       "<td>1.0</td>\n",
       "<td>1.0</td>\n",
       "<td>1.0</td>\n",
       "<td>0.3695652</td>\n",
       "<td>0.3695652</td>\n",
       "<td>134.7826087</td>\n",
       "<td>134.7826087</td></tr>\n",
       "<tr><td></td>\n",
       "<td>2</td>\n",
       "<td>0.1574074</td>\n",
       "<td>0.999</td>\n",
       "<td>0.0</td>\n",
       "<td>2.3478261</td>\n",
       "<td>0.0</td>\n",
       "<td>0.0</td>\n",
       "<td>1.0</td>\n",
       "<td>1.0</td>\n",
       "<td>0.0</td>\n",
       "<td>0.3695652</td>\n",
       "<td>-100.0</td>\n",
       "<td>134.7826087</td></tr>\n",
       "<tr><td></td>\n",
       "<td>3</td>\n",
       "<td>0.2407407</td>\n",
       "<td>0.98</td>\n",
       "<td>2.3478261</td>\n",
       "<td>2.3478261</td>\n",
       "<td>1.0</td>\n",
       "<td>0.9800000</td>\n",
       "<td>1.0</td>\n",
       "<td>0.9930769</td>\n",
       "<td>0.1956522</td>\n",
       "<td>0.5652174</td>\n",
       "<td>134.7826087</td>\n",
       "<td>134.7826087</td></tr>\n",
       "<tr><td></td>\n",
       "<td>4</td>\n",
       "<td>0.3055556</td>\n",
       "<td>0.918</td>\n",
       "<td>2.3478261</td>\n",
       "<td>2.3478261</td>\n",
       "<td>1.0</td>\n",
       "<td>0.9386090</td>\n",
       "<td>1.0</td>\n",
       "<td>0.9815231</td>\n",
       "<td>0.1521739</td>\n",
       "<td>0.7173913</td>\n",
       "<td>134.7826087</td>\n",
       "<td>134.7826087</td></tr>\n",
       "<tr><td></td>\n",
       "<td>5</td>\n",
       "<td>0.4074074</td>\n",
       "<td>0.8200000</td>\n",
       "<td>2.3478261</td>\n",
       "<td>2.3478261</td>\n",
       "<td>1.0</td>\n",
       "<td>0.8550239</td>\n",
       "<td>1.0</td>\n",
       "<td>0.9498983</td>\n",
       "<td>0.2391304</td>\n",
       "<td>0.9565217</td>\n",
       "<td>134.7826087</td>\n",
       "<td>134.7826087</td></tr>\n",
       "<tr><td></td>\n",
       "<td>6</td>\n",
       "<td>0.5092593</td>\n",
       "<td>0.1800000</td>\n",
       "<td>0.4268775</td>\n",
       "<td>1.9636364</td>\n",
       "<td>0.1818182</td>\n",
       "<td>0.3436364</td>\n",
       "<td>0.8363636</td>\n",
       "<td>0.8286459</td>\n",
       "<td>0.0434783</td>\n",
       "<td>1.0</td>\n",
       "<td>-57.3122530</td>\n",
       "<td>96.3636364</td></tr>\n",
       "<tr><td></td>\n",
       "<td>7</td>\n",
       "<td>0.6203704</td>\n",
       "<td>0.12</td>\n",
       "<td>0.0</td>\n",
       "<td>1.6119403</td>\n",
       "<td>0.0</td>\n",
       "<td>0.1420833</td>\n",
       "<td>0.6865672</td>\n",
       "<td>0.7056795</td>\n",
       "<td>0.0</td>\n",
       "<td>1.0</td>\n",
       "<td>-100.0</td>\n",
       "<td>61.1940299</td></tr>\n",
       "<tr><td></td>\n",
       "<td>8</td>\n",
       "<td>0.7129630</td>\n",
       "<td>0.0800000</td>\n",
       "<td>0.0</td>\n",
       "<td>1.4025974</td>\n",
       "<td>0.0</td>\n",
       "<td>0.0905671</td>\n",
       "<td>0.5974026</td>\n",
       "<td>0.6257948</td>\n",
       "<td>0.0</td>\n",
       "<td>1.0</td>\n",
       "<td>-100.0</td>\n",
       "<td>40.2597403</td></tr>\n",
       "<tr><td></td>\n",
       "<td>9</td>\n",
       "<td>0.7962963</td>\n",
       "<td>0.0560684</td>\n",
       "<td>0.0</td>\n",
       "<td>1.2558140</td>\n",
       "<td>0.0</td>\n",
       "<td>0.0615561</td>\n",
       "<td>0.5348837</td>\n",
       "<td>0.5667465</td>\n",
       "<td>0.0</td>\n",
       "<td>1.0</td>\n",
       "<td>-100.0</td>\n",
       "<td>25.5813953</td></tr>\n",
       "<tr><td></td>\n",
       "<td>10</td>\n",
       "<td>0.9074074</td>\n",
       "<td>0.0200000</td>\n",
       "<td>0.0</td>\n",
       "<td>1.1020408</td>\n",
       "<td>0.0</td>\n",
       "<td>0.0311645</td>\n",
       "<td>0.4693878</td>\n",
       "<td>0.5011651</td>\n",
       "<td>0.0</td>\n",
       "<td>1.0</td>\n",
       "<td>-100.0</td>\n",
       "<td>10.2040816</td></tr>\n",
       "<tr><td></td>\n",
       "<td>11</td>\n",
       "<td>1.0</td>\n",
       "<td>0.0</td>\n",
       "<td>0.0</td>\n",
       "<td>1.0</td>\n",
       "<td>0.0</td>\n",
       "<td>0.0035413</td>\n",
       "<td>0.4259259</td>\n",
       "<td>0.4550888</td>\n",
       "<td>0.0</td>\n",
       "<td>1.0</td>\n",
       "<td>-100.0</td>\n",
       "<td>0.0</td></tr></table></div>"
      ],
      "text/plain": [
       "    group    cumulative_data_fraction    lower_threshold    lift      cumulative_lift    response_rate    score       cumulative_response_rate    cumulative_score    capture_rate    cumulative_capture_rate    gain      cumulative_gain\n",
       "--  -------  --------------------------  -----------------  --------  -----------------  ---------------  ----------  --------------------------  ------------------  --------------  -------------------------  --------  -----------------\n",
       "    1        0.157407                    1                  2.34783   2.34783            1                1           1                           1                   0.369565        0.369565                   134.783   134.783\n",
       "    2        0.157407                    0.999              0         2.34783            0                0           1                           1                   0               0.369565                   -100      134.783\n",
       "    3        0.240741                    0.98               2.34783   2.34783            1                0.98        1                           0.993077            0.195652        0.565217                   134.783   134.783\n",
       "    4        0.305556                    0.918              2.34783   2.34783            1                0.938609    1                           0.981523            0.152174        0.717391                   134.783   134.783\n",
       "    5        0.407407                    0.82               2.34783   2.34783            1                0.855024    1                           0.949898            0.23913         0.956522                   134.783   134.783\n",
       "    6        0.509259                    0.18               0.426877  1.96364            0.181818         0.343636    0.836364                    0.828646            0.0434783       1                          -57.3123  96.3636\n",
       "    7        0.62037                     0.12               0         1.61194            0                0.142083    0.686567                    0.705679            0               1                          -100      61.194\n",
       "    8        0.712963                    0.08               0         1.4026             0                0.0905671   0.597403                    0.625795            0               1                          -100      40.2597\n",
       "    9        0.796296                    0.0560684          0         1.25581            0                0.0615561   0.534884                    0.566747            0               1                          -100      25.5814\n",
       "    10       0.907407                    0.02               0         1.10204            0                0.0311645   0.469388                    0.501165            0               1                          -100      10.2041\n",
       "    11       1                           0                  0         1                  0                0.00354127  0.425926                    0.455089            0               1                          -100      0"
      ]
     },
     "metadata": {},
     "output_type": "display_data"
    },
    {
     "name": "stdout",
     "output_type": "stream",
     "text": [
      "\n",
      "\n"
     ]
    }
   ],
   "source": [
    "performance = model.model_performance(test_data=test)\n",
    "\n",
    "print (performance)"
   ]
  },
  {
   "cell_type": "code",
   "execution_count": 71,
   "metadata": {},
   "outputs": [
    {
     "data": {
      "text/plain": [
       "[('ActualElapsedTime',\n",
       "  181.59010314941406,\n",
       "  0.044507263703449366,\n",
       "  0.022099145964985776),\n",
       " ('AirTime', 59.76042556762695, 0.014647125441523893, 0.007272722161857075),\n",
       " ('ArrDelay', 1403.0736083984375, 0.3438897054480858, 0.17075120248212938),\n",
       " ('ArrTime', 181.91558837890625, 0.04458703928972494, 0.022138756854958544),\n",
       " ('CRSArrTime', 220.1394805908203, 0.05395561621623336, 0.02679052674048987),\n",
       " ('CRSDepTime', 78.37838745117188, 0.0192103396519916, 0.009538490230155726),\n",
       " ('CRSElapsedTime',\n",
       "  53.698238372802734,\n",
       "  0.013161299069820628,\n",
       "  0.006534966318548495),\n",
       " ('CancellationCode',\n",
       "  4.850827693939209,\n",
       "  0.0011889252971925756,\n",
       "  0.0005903358575172649),\n",
       " ('Cancelled', 22.29482078552246, 0.005464402799011209, 0.002713234313199681),\n",
       " ('CarrierDelay',\n",
       "  179.25205993652344,\n",
       "  0.04393421537085075,\n",
       "  0.021814610864570084),\n",
       " ('Date', 35.1839485168457, 0.008623494604655666, 0.004281814925004777),\n",
       " ('DayOfWeek', 36.64724349975586, 0.008982144412936955, 0.0044598949461970945),\n",
       " ('DayofMonth', 60.11631774902344, 0.01473435369291365, 0.007316033515989667),\n",
       " ('DepDelay', 4080.010498046875, 1.0, 0.49652897361275133),\n",
       " ('DepTime', 188.94900512695312, 0.04631091150804738, 0.022994709358161718),\n",
       " ('Dest', 155.1552734375, 0.03802815544513274, 0.018882080991557918),\n",
       " ('Distance', 22.027013778686523, 0.0053987639956394684, 0.002680642745532341),\n",
       " ('Diverted', 0.0, 0.0, 0.0),\n",
       " ('FlightNum',\n",
       "  25.893728256225586,\n",
       "  0.006346485693755216,\n",
       "  0.0031512140275682873),\n",
       " ('HDD', 40.01995086669922, 0.009808786248431714, 0.0048703465683206685),\n",
       " ('LateAircraftDelay',\n",
       "  388.97406005859375,\n",
       "  0.09533653412038962,\n",
       "  0.047337351434594103),\n",
       " ('NASDelay', 145.94342041015625, 0.03577035414002494, 0.017761017226911213),\n",
       " ('Origin', 102.88018035888672, 0.025215665598933155, 0.012520308558800642),\n",
       " ('PrcpIn', 76.70719909667969, 0.018800735717077167, 0.00933511000876492),\n",
       " ('SnowIn', 42.57699203491211, 0.01043551041236143, 0.005181533274175),\n",
       " ('TailNum', 139.33346557617188, 0.03415027133946631, 0.016956599176782168),\n",
       " ('TaxiIn', 95.06527709960938, 0.023300253061877583, 0.011569250737731442),\n",
       " ('TaxiOut', 69.51864624023438, 0.017038840040611014, 0.008460277756916436),\n",
       " ('TmaxF', 33.33999252319336, 0.008171545769098733, 0.004057409233560215),\n",
       " ('TmeanF', 33.81515121459961, 0.00828800593302079, 0.004115235079219206),\n",
       " ('TminF', 55.57125473022461, 0.013620370525229505, 0.0067629085971175765),\n",
       " ('UniqueCarrier',\n",
       "  2.3083655834198,\n",
       "  0.0005657744225228901,\n",
       "  0.0002809233933116377),\n",
       " ('Year', 2.073765516281128, 0.0005082745540174104, 0.00025237304261974374)]"
      ]
     },
     "execution_count": 71,
     "metadata": {},
     "output_type": "execute_result"
    }
   ],
   "source": [
    "model.varimp()\n"
   ]
  },
  {
   "cell_type": "code",
   "execution_count": 63,
   "metadata": {},
   "outputs": [],
   "source": [
    "cm=merged.cor().as_data_frame()"
   ]
  },
  {
   "cell_type": "code",
   "execution_count": 59,
   "metadata": {},
   "outputs": [
    {
     "ename": "ValueError",
     "evalue": "cannot copy sequence with size 1087 to array axis with dimension 40",
     "output_type": "error",
     "traceback": [
      "\u001b[0;31m---------------------------------------------------------------------------\u001b[0m",
      "\u001b[0;31mValueError\u001b[0m                                Traceback (most recent call last)",
      "\u001b[0;32m<ipython-input-59-f38a82e81828>\u001b[0m in \u001b[0;36m<module>\u001b[0;34m()\u001b[0m\n\u001b[1;32m      1\u001b[0m \u001b[0mgrid_kws\u001b[0m \u001b[0;34m=\u001b[0m \u001b[0;34m{\u001b[0m\u001b[0;34m\"height_ratios\"\u001b[0m\u001b[0;34m:\u001b[0m \u001b[0;34m(\u001b[0m\u001b[0;36m.9\u001b[0m\u001b[0;34m,\u001b[0m \u001b[0;36m.05\u001b[0m\u001b[0;34m)\u001b[0m\u001b[0;34m,\u001b[0m \u001b[0;34m\"hspace\"\u001b[0m\u001b[0;34m:\u001b[0m \u001b[0;36m.3\u001b[0m\u001b[0;34m}\u001b[0m\u001b[0;34m\u001b[0m\u001b[0m\n\u001b[1;32m      2\u001b[0m \u001b[0mf\u001b[0m\u001b[0;34m,\u001b[0m \u001b[0;34m(\u001b[0m\u001b[0max\u001b[0m\u001b[0;34m,\u001b[0m \u001b[0mcbar_ax\u001b[0m\u001b[0;34m)\u001b[0m \u001b[0;34m=\u001b[0m \u001b[0mplt\u001b[0m\u001b[0;34m.\u001b[0m\u001b[0msubplots\u001b[0m\u001b[0;34m(\u001b[0m\u001b[0;36m2\u001b[0m\u001b[0;34m,\u001b[0m \u001b[0mgridspec_kw\u001b[0m\u001b[0;34m=\u001b[0m\u001b[0mgrid_kws\u001b[0m\u001b[0;34m)\u001b[0m\u001b[0;34m\u001b[0m\u001b[0m\n\u001b[0;32m----> 3\u001b[0;31m \u001b[0max\u001b[0m \u001b[0;34m=\u001b[0m \u001b[0msns\u001b[0m\u001b[0;34m.\u001b[0m\u001b[0mheatmap\u001b[0m\u001b[0;34m(\u001b[0m\u001b[0mmerged\u001b[0m\u001b[0;34m,\u001b[0m \u001b[0max\u001b[0m\u001b[0;34m=\u001b[0m\u001b[0max\u001b[0m\u001b[0;34m,\u001b[0m\u001b[0mcbar_ax\u001b[0m\u001b[0;34m=\u001b[0m\u001b[0mcbar_ax\u001b[0m\u001b[0;34m,\u001b[0m\u001b[0mcbar_kws\u001b[0m\u001b[0;34m=\u001b[0m\u001b[0;34m{\u001b[0m\u001b[0;34m\"orientation\"\u001b[0m\u001b[0;34m:\u001b[0m \u001b[0;34m\"horizontal\"\u001b[0m\u001b[0;34m}\u001b[0m\u001b[0;34m)\u001b[0m\u001b[0;34m\u001b[0m\u001b[0m\n\u001b[0m",
      "\u001b[0;32m/Users/mihirzgr8/anaconda/lib/python3.6/site-packages/seaborn/matrix.py\u001b[0m in \u001b[0;36mheatmap\u001b[0;34m(data, vmin, vmax, cmap, center, robust, annot, fmt, annot_kws, linewidths, linecolor, cbar, cbar_kws, cbar_ax, square, ax, xticklabels, yticklabels, mask, **kwargs)\u001b[0m\n\u001b[1;32m    483\u001b[0m     plotter = _HeatMapper(data, vmin, vmax, cmap, center, robust, annot, fmt,\n\u001b[1;32m    484\u001b[0m                           \u001b[0mannot_kws\u001b[0m\u001b[0;34m,\u001b[0m \u001b[0mcbar\u001b[0m\u001b[0;34m,\u001b[0m \u001b[0mcbar_kws\u001b[0m\u001b[0;34m,\u001b[0m \u001b[0mxticklabels\u001b[0m\u001b[0;34m,\u001b[0m\u001b[0;34m\u001b[0m\u001b[0m\n\u001b[0;32m--> 485\u001b[0;31m                           yticklabels, mask)\n\u001b[0m\u001b[1;32m    486\u001b[0m \u001b[0;34m\u001b[0m\u001b[0m\n\u001b[1;32m    487\u001b[0m     \u001b[0;31m# Add the pcolormesh kwargs here\u001b[0m\u001b[0;34m\u001b[0m\u001b[0;34m\u001b[0m\u001b[0m\n",
      "\u001b[0;32m/Users/mihirzgr8/anaconda/lib/python3.6/site-packages/seaborn/matrix.py\u001b[0m in \u001b[0;36m__init__\u001b[0;34m(self, data, vmin, vmax, cmap, center, robust, annot, fmt, annot_kws, cbar, cbar_kws, xticklabels, yticklabels, mask)\u001b[0m\n\u001b[1;32m    104\u001b[0m             \u001b[0mplot_data\u001b[0m \u001b[0;34m=\u001b[0m \u001b[0mdata\u001b[0m\u001b[0;34m.\u001b[0m\u001b[0mvalues\u001b[0m\u001b[0;34m\u001b[0m\u001b[0m\n\u001b[1;32m    105\u001b[0m         \u001b[0;32melse\u001b[0m\u001b[0;34m:\u001b[0m\u001b[0;34m\u001b[0m\u001b[0m\n\u001b[0;32m--> 106\u001b[0;31m             \u001b[0mplot_data\u001b[0m \u001b[0;34m=\u001b[0m \u001b[0mnp\u001b[0m\u001b[0;34m.\u001b[0m\u001b[0masarray\u001b[0m\u001b[0;34m(\u001b[0m\u001b[0mdata\u001b[0m\u001b[0;34m)\u001b[0m\u001b[0;34m\u001b[0m\u001b[0m\n\u001b[0m\u001b[1;32m    107\u001b[0m             \u001b[0mdata\u001b[0m \u001b[0;34m=\u001b[0m \u001b[0mpd\u001b[0m\u001b[0;34m.\u001b[0m\u001b[0mDataFrame\u001b[0m\u001b[0;34m(\u001b[0m\u001b[0mplot_data\u001b[0m\u001b[0;34m)\u001b[0m\u001b[0;34m\u001b[0m\u001b[0m\n\u001b[1;32m    108\u001b[0m \u001b[0;34m\u001b[0m\u001b[0m\n",
      "\u001b[0;32m/Users/mihirzgr8/anaconda/lib/python3.6/site-packages/numpy/core/numeric.py\u001b[0m in \u001b[0;36masarray\u001b[0;34m(a, dtype, order)\u001b[0m\n\u001b[1;32m    490\u001b[0m \u001b[0;34m\u001b[0m\u001b[0m\n\u001b[1;32m    491\u001b[0m     \"\"\"\n\u001b[0;32m--> 492\u001b[0;31m     \u001b[0;32mreturn\u001b[0m \u001b[0marray\u001b[0m\u001b[0;34m(\u001b[0m\u001b[0ma\u001b[0m\u001b[0;34m,\u001b[0m \u001b[0mdtype\u001b[0m\u001b[0;34m,\u001b[0m \u001b[0mcopy\u001b[0m\u001b[0;34m=\u001b[0m\u001b[0;32mFalse\u001b[0m\u001b[0;34m,\u001b[0m \u001b[0morder\u001b[0m\u001b[0;34m=\u001b[0m\u001b[0morder\u001b[0m\u001b[0;34m)\u001b[0m\u001b[0;34m\u001b[0m\u001b[0m\n\u001b[0m\u001b[1;32m    493\u001b[0m \u001b[0;34m\u001b[0m\u001b[0m\n\u001b[1;32m    494\u001b[0m \u001b[0;34m\u001b[0m\u001b[0m\n",
      "\u001b[0;31mValueError\u001b[0m: cannot copy sequence with size 1087 to array axis with dimension 40"
     ]
    },
    {
     "data": {
      "image/png": "[encoded data removed]",
      "text/plain": [
       "<matplotlib.figure.Figure at 0x110689e80>"
      ]
     },
     "metadata": {},
     "output_type": "display_data"
    }
   ],
   "source": [
    " grid_kws = {\"height_ratios\": (.9, .05), \"hspace\": .3}\n",
    "f, (ax, cbar_ax) = plt.subplots(2, gridspec_kw=grid_kws)\n",
    "ax = sns.heatmap(merged, ax=ax,cbar_ax=cbar_ax,cbar_kws={\"orientation\": \"horizontal\"})"
   ]
  },
  {
   "cell_type": "code",
   "execution_count": 64,
   "metadata": {},
   "outputs": [
    {
     "data": {
      "text/plain": [
       "<matplotlib.axes._subplots.AxesSubplot at 0x110692940>"
      ]
     },
     "execution_count": 64,
     "metadata": {},
     "output_type": "execute_result"
    },
    {
     "data": {
      "image/png": "[encoded data removed]",
      "text/plain": [
       "<matplotlib.figure.Figure at 0x1108b6198>"
      ]
     },
     "metadata": {},
     "output_type": "display_data"
    }
   ],
   "source": [
    "# Generate a mask for the upper triangle\n",
    "import numpy as np\n",
    "mask = np.zeros_like(cm, dtype=np.bool)\n",
    "mask[np.triu_indices_from(mask)] = True\n",
    "\n",
    "# Set up the matplotlib figure\n",
    "f, ax = plt.subplots(figsize=(11, 9))\n",
    "\n",
    "# Generate a custom diverging colormap\n",
    "cmap = sns.diverging_palette(220, 10, as_cmap=True)\n",
    "\n",
    "# Draw the heatmap with the mask and correct aspect ratio\n",
    "sns.heatmap(cm, mask=mask, cmap=cmap, vmax=.3, center=0,\n",
    "            square=True, linewidths=.5, cbar_kws={\"shrink\": .5})"
   ]
  },
  {
   "cell_type": "code",
   "execution_count": 65,
   "metadata": {},
   "outputs": [
    {
     "ename": "NameError",
     "evalue": "name 'operator' is not defined",
     "output_type": "error",
     "traceback": [
      "\u001b[0;31m---------------------------------------------------------------------------\u001b[0m",
      "\u001b[0;31mNameError\u001b[0m                                 Traceback (most recent call last)",
      "\u001b[0;32m<ipython-input-65-b7b698a4f208>\u001b[0m in \u001b[0;36m<module>\u001b[0;34m()\u001b[0m\n\u001b[1;32m      5\u001b[0m \u001b[0;34m\u001b[0m\u001b[0m\n\u001b[1;32m      6\u001b[0m \u001b[0;31m# Sort in descending order by magnitude\u001b[0m\u001b[0;34m\u001b[0m\u001b[0;34m\u001b[0m\u001b[0m\n\u001b[0;32m----> 7\u001b[0;31m \u001b[0mglm_sorted\u001b[0m \u001b[0;34m=\u001b[0m \u001b[0msorted\u001b[0m\u001b[0;34m(\u001b[0m\u001b[0mglm_varimp\u001b[0m\u001b[0;34m.\u001b[0m\u001b[0mitems\u001b[0m\u001b[0;34m(\u001b[0m\u001b[0;34m)\u001b[0m\u001b[0;34m,\u001b[0m \u001b[0mkey\u001b[0m \u001b[0;34m=\u001b[0m \u001b[0moperator\u001b[0m\u001b[0;34m.\u001b[0m\u001b[0mitemgetter\u001b[0m\u001b[0;34m(\u001b[0m\u001b[0;36m1\u001b[0m\u001b[0;34m)\u001b[0m\u001b[0;34m,\u001b[0m \u001b[0mreverse\u001b[0m \u001b[0;34m=\u001b[0m \u001b[0;32mTrue\u001b[0m\u001b[0;34m)\u001b[0m\u001b[0;34m\u001b[0m\u001b[0m\n\u001b[0m\u001b[1;32m      8\u001b[0m \u001b[0mtable\u001b[0m \u001b[0;34m=\u001b[0m \u001b[0mtabulate\u001b[0m\u001b[0;34m(\u001b[0m\u001b[0mglm_sorted\u001b[0m\u001b[0;34m,\u001b[0m \u001b[0mheaders\u001b[0m \u001b[0;34m=\u001b[0m \u001b[0;34m[\u001b[0m\u001b[0;34m\"Predictor\"\u001b[0m\u001b[0;34m,\u001b[0m \u001b[0;34m\"Normalized Coefficient\"\u001b[0m\u001b[0;34m]\u001b[0m\u001b[0;34m,\u001b[0m \u001b[0mtablefmt\u001b[0m \u001b[0;34m=\u001b[0m \u001b[0;34m\"orgtbl\"\u001b[0m\u001b[0;34m)\u001b[0m\u001b[0;34m\u001b[0m\u001b[0m\n\u001b[1;32m      9\u001b[0m \u001b[0mprint\u001b[0m\u001b[0;34m(\u001b[0m\u001b[0;34m\"Variable Importances:\\n\\n\"\u001b[0m \u001b[0;34m+\u001b[0m \u001b[0mtable\u001b[0m\u001b[0;34m)\u001b[0m\u001b[0;34m\u001b[0m\u001b[0m\n",
      "\u001b[0;31mNameError\u001b[0m: name 'operator' is not defined"
     ]
    }
   ],
   "source": [
    "from six import iteritems\n",
    "glm_varimp = glm_logistic.coef_norm()\n",
    "for k,v in iteritems(glm_varimp):\n",
    "    glm_varimp[k] = abs(glm_varimp[k])\n",
    "    \n",
    "# Sort in descending order by magnitude\n",
    "glm_sorted = sorted(glm_varimp.items(), key = operator.itemgetter(1), reverse = True)\n",
    "table = tabulate(glm_sorted, headers = [\"Predictor\", \"Normalized Coefficient\"], tablefmt = \"orgtbl\")\n",
    "print(\"Variable Importances:\\n\\n\" + table)\n"
   ]
  },
  {
   "cell_type": "code",
   "execution_count": null,
   "metadata": {
    "collapsed": true
   },
   "outputs": [],
   "source": []
  }
 ],
 "metadata": {
  "kernelspec": {
   "display_name": "Python 3",
   "language": "python",
   "name": "python3"
  },
  "language_info": {
   "codemirror_mode": {
    "name": "ipython",
    "version": 3
   },
   "file_extension": ".py",
   "mimetype": "text/x-python",
   "name": "python",
   "nbconvert_exporter": "python",
   "pygments_lexer": "ipython3",
   "version": "3.6.1"
  }
 },
 "nbformat": 4,
 "nbformat_minor": 2
}
