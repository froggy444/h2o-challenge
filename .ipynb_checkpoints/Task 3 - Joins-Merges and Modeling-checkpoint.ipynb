{
 "cells": [
  {
   "cell_type": "markdown",
   "metadata": {},
   "source": [
    "Dataset:\n",
    "http://h2o-public-test-data.s3.amazonaws.com/smalldata/iris/iris_wheader.csv\n",
    "\n",
    "Problem:\n",
    "    \n",
    "For this task we want to see how a simple analysis using group_by can provide insight into categorizing the different Iris Species. Please complete the following:\n",
    "\n",
    "   1. Import the Iris dataset, path is already provided.\n",
    "   1. Run a groupby on Species type, generating the mean of C1-C4 for each group.\n",
    "   1. Build a K-Means model with 3 centeroids.\n",
    "   1. Compare the simple aggregated data with the K-Means model, just meaningful explanation or code to showing difference would be acceptable."
   ]
  },
  {
   "cell_type": "code",
   "execution_count": null,
   "metadata": {
    "collapsed": true
   },
   "outputs": [],
   "source": []
  }
 ],
 "metadata": {
  "kernelspec": {
   "display_name": "Python 3",
   "language": "python",
   "name": "python3"
  },
  "language_info": {
   "codemirror_mode": {
    "name": "ipython",
    "version": 3
   },
   "file_extension": ".py",
   "mimetype": "text/x-python",
   "name": "python",
   "nbconvert_exporter": "python",
   "pygments_lexer": "ipython3",
   "version": "3.6.1"
  }
 },
 "nbformat": 4,
 "nbformat_minor": 2
}
