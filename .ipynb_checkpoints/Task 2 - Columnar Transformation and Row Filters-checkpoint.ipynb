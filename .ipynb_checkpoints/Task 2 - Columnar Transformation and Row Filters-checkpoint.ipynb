{
 "cells": [
  {
   "cell_type": "markdown",
   "metadata": {},
   "source": [
    "Dataset:\n",
    "https://s3.amazonaws.com/h2o-public-test-data/bigdata/laptop/citibike-nyc/31081_New_York_City__Hourly_2013.csv\n",
    "\n",
    "Problem:\n",
    "    For this task please import the NYC weather dataset which gives you weather conditions for every hour of every day of every month in 2013, and complete the following:\n",
    "\n",
    "   1. Import the data.\n",
    "   1. Run columnar transformation on Column \"Temperature (C)\" to (F):\n",
    "       T(°F) = T(°C) × 1.8 + 32\n",
    "   1. Append the column back to the original frame, call the column temp_f.\n",
    "   1. Group by the month and day and aggregate to find the low, high, and average temperature every day in 2013.\n",
    "   1. Visualize the average temperature each day of the year using plots.\n",
    "   1. Filter or query the data to answer the following two questions:\n",
    "   1. Question: What month/day was the coldest in NYC (use min temp)?\n",
    "   1. Question: What month/day was the hottest in NYC (use max temp)?\n"
   ]
  },
  {
   "cell_type": "code",
   "execution_count": null,
   "metadata": {
    "collapsed": true
   },
   "outputs": [],
   "source": []
  }
 ],
 "metadata": {
  "kernelspec": {
   "display_name": "Python 3",
   "language": "python",
   "name": "python3"
  },
  "language_info": {
   "codemirror_mode": {
    "name": "ipython",
    "version": 3
   },
   "file_extension": ".py",
   "mimetype": "text/x-python",
   "name": "python",
   "nbconvert_exporter": "python",
   "pygments_lexer": "ipython3",
   "version": "3.6.1"
  }
 },
 "nbformat": 4,
 "nbformat_minor": 2
}
